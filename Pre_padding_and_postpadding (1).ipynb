{
  "nbformat": 4,
  "nbformat_minor": 0,
  "metadata": {
    "colab": {
      "provenance": []
    },
    "kernelspec": {
      "name": "python3",
      "display_name": "Python 3"
    },
    "language_info": {
      "name": "python"
    }
  },
  "cells": [
    {
      "cell_type": "markdown",
      "source": [
        "## Install the modules"
      ],
      "metadata": {
        "id": "xNDX13s7b8cW"
      }
    },
    {
      "cell_type": "code",
      "source": [
        "#Install Tensorflow\n",
        "!pip install tensorflow==2.8.0"
      ],
      "metadata": {
        "colab": {
          "base_uri": "https://localhost:8080/"
        },
        "id": "fWuslvVdTk2o",
        "outputId": "64a3af73-fdc9-4d26-e099-de18cc367029"
      },
      "execution_count": 1,
      "outputs": [
        {
          "output_type": "stream",
          "name": "stdout",
          "text": [
            "Looking in indexes: https://pypi.org/simple, https://us-python.pkg.dev/colab-wheels/public/simple/\n",
            "Collecting tensorflow==2.8.0\n",
            "  Downloading tensorflow-2.8.0-cp310-cp310-manylinux2010_x86_64.whl (497.6 MB)\n",
            "\u001b[2K     \u001b[90m━━━━━━━━━━━━━━━━━━━━━━━━━━━━━━━━━━━━━━━\u001b[0m \u001b[32m497.6/497.6 MB\u001b[0m \u001b[31m3.4 MB/s\u001b[0m eta \u001b[36m0:00:00\u001b[0m\n",
            "\u001b[?25hRequirement already satisfied: absl-py>=0.4.0 in /usr/local/lib/python3.10/dist-packages (from tensorflow==2.8.0) (1.4.0)\n",
            "Requirement already satisfied: astunparse>=1.6.0 in /usr/local/lib/python3.10/dist-packages (from tensorflow==2.8.0) (1.6.3)\n",
            "Requirement already satisfied: flatbuffers>=1.12 in /usr/local/lib/python3.10/dist-packages (from tensorflow==2.8.0) (23.3.3)\n",
            "Requirement already satisfied: gast>=0.2.1 in /usr/local/lib/python3.10/dist-packages (from tensorflow==2.8.0) (0.4.0)\n",
            "Requirement already satisfied: google-pasta>=0.1.1 in /usr/local/lib/python3.10/dist-packages (from tensorflow==2.8.0) (0.2.0)\n",
            "Requirement already satisfied: h5py>=2.9.0 in /usr/local/lib/python3.10/dist-packages (from tensorflow==2.8.0) (3.8.0)\n",
            "Collecting keras-preprocessing>=1.1.1 (from tensorflow==2.8.0)\n",
            "  Downloading Keras_Preprocessing-1.1.2-py2.py3-none-any.whl (42 kB)\n",
            "\u001b[2K     \u001b[90m━━━━━━━━━━━━━━━━━━━━━━━━━━━━━━━━━━━━━━━━\u001b[0m \u001b[32m42.6/42.6 kB\u001b[0m \u001b[31m6.2 MB/s\u001b[0m eta \u001b[36m0:00:00\u001b[0m\n",
            "\u001b[?25hRequirement already satisfied: libclang>=9.0.1 in /usr/local/lib/python3.10/dist-packages (from tensorflow==2.8.0) (16.0.0)\n",
            "Requirement already satisfied: numpy>=1.20 in /usr/local/lib/python3.10/dist-packages (from tensorflow==2.8.0) (1.22.4)\n",
            "Requirement already satisfied: opt-einsum>=2.3.2 in /usr/local/lib/python3.10/dist-packages (from tensorflow==2.8.0) (3.3.0)\n",
            "Requirement already satisfied: protobuf>=3.9.2 in /usr/local/lib/python3.10/dist-packages (from tensorflow==2.8.0) (3.20.3)\n",
            "Requirement already satisfied: setuptools in /usr/local/lib/python3.10/dist-packages (from tensorflow==2.8.0) (67.7.2)\n",
            "Requirement already satisfied: six>=1.12.0 in /usr/local/lib/python3.10/dist-packages (from tensorflow==2.8.0) (1.16.0)\n",
            "Requirement already satisfied: termcolor>=1.1.0 in /usr/local/lib/python3.10/dist-packages (from tensorflow==2.8.0) (2.3.0)\n",
            "Requirement already satisfied: typing-extensions>=3.6.6 in /usr/local/lib/python3.10/dist-packages (from tensorflow==2.8.0) (4.5.0)\n",
            "Requirement already satisfied: wrapt>=1.11.0 in /usr/local/lib/python3.10/dist-packages (from tensorflow==2.8.0) (1.14.1)\n",
            "Collecting tensorboard<2.9,>=2.8 (from tensorflow==2.8.0)\n",
            "  Downloading tensorboard-2.8.0-py3-none-any.whl (5.8 MB)\n",
            "\u001b[2K     \u001b[90m━━━━━━━━━━━━━━━━━━━━━━━━━━━━━━━━━━━━━━━━\u001b[0m \u001b[32m5.8/5.8 MB\u001b[0m \u001b[31m111.6 MB/s\u001b[0m eta \u001b[36m0:00:00\u001b[0m\n",
            "\u001b[?25hCollecting tf-estimator-nightly==2.8.0.dev2021122109 (from tensorflow==2.8.0)\n",
            "  Downloading tf_estimator_nightly-2.8.0.dev2021122109-py2.py3-none-any.whl (462 kB)\n",
            "\u001b[2K     \u001b[90m━━━━━━━━━━━━━━━━━━━━━━━━━━━━━━━━━━━━━━\u001b[0m \u001b[32m462.5/462.5 kB\u001b[0m \u001b[31m37.3 MB/s\u001b[0m eta \u001b[36m0:00:00\u001b[0m\n",
            "\u001b[?25hCollecting keras<2.9,>=2.8.0rc0 (from tensorflow==2.8.0)\n",
            "  Downloading keras-2.8.0-py2.py3-none-any.whl (1.4 MB)\n",
            "\u001b[2K     \u001b[90m━━━━━━━━━━━━━━━━━━━━━━━━━━━━━━━━━━━━━━━━\u001b[0m \u001b[32m1.4/1.4 MB\u001b[0m \u001b[31m103.2 MB/s\u001b[0m eta \u001b[36m0:00:00\u001b[0m\n",
            "\u001b[?25hRequirement already satisfied: tensorflow-io-gcs-filesystem>=0.23.1 in /usr/local/lib/python3.10/dist-packages (from tensorflow==2.8.0) (0.32.0)\n",
            "Requirement already satisfied: grpcio<2.0,>=1.24.3 in /usr/local/lib/python3.10/dist-packages (from tensorflow==2.8.0) (1.54.0)\n",
            "Requirement already satisfied: wheel<1.0,>=0.23.0 in /usr/local/lib/python3.10/dist-packages (from astunparse>=1.6.0->tensorflow==2.8.0) (0.40.0)\n",
            "Requirement already satisfied: google-auth<3,>=1.6.3 in /usr/local/lib/python3.10/dist-packages (from tensorboard<2.9,>=2.8->tensorflow==2.8.0) (2.17.3)\n",
            "Collecting google-auth-oauthlib<0.5,>=0.4.1 (from tensorboard<2.9,>=2.8->tensorflow==2.8.0)\n",
            "  Downloading google_auth_oauthlib-0.4.6-py2.py3-none-any.whl (18 kB)\n",
            "Requirement already satisfied: markdown>=2.6.8 in /usr/local/lib/python3.10/dist-packages (from tensorboard<2.9,>=2.8->tensorflow==2.8.0) (3.4.3)\n",
            "Requirement already satisfied: requests<3,>=2.21.0 in /usr/local/lib/python3.10/dist-packages (from tensorboard<2.9,>=2.8->tensorflow==2.8.0) (2.27.1)\n",
            "Collecting tensorboard-data-server<0.7.0,>=0.6.0 (from tensorboard<2.9,>=2.8->tensorflow==2.8.0)\n",
            "  Downloading tensorboard_data_server-0.6.1-py3-none-manylinux2010_x86_64.whl (4.9 MB)\n",
            "\u001b[2K     \u001b[90m━━━━━━━━━━━━━━━━━━━━━━━━━━━━━━━━━━━━━━━━\u001b[0m \u001b[32m4.9/4.9 MB\u001b[0m \u001b[31m112.7 MB/s\u001b[0m eta \u001b[36m0:00:00\u001b[0m\n",
            "\u001b[?25hRequirement already satisfied: tensorboard-plugin-wit>=1.6.0 in /usr/local/lib/python3.10/dist-packages (from tensorboard<2.9,>=2.8->tensorflow==2.8.0) (1.8.1)\n",
            "Requirement already satisfied: werkzeug>=0.11.15 in /usr/local/lib/python3.10/dist-packages (from tensorboard<2.9,>=2.8->tensorflow==2.8.0) (2.3.0)\n",
            "Requirement already satisfied: cachetools<6.0,>=2.0.0 in /usr/local/lib/python3.10/dist-packages (from google-auth<3,>=1.6.3->tensorboard<2.9,>=2.8->tensorflow==2.8.0) (5.3.0)\n",
            "Requirement already satisfied: pyasn1-modules>=0.2.1 in /usr/local/lib/python3.10/dist-packages (from google-auth<3,>=1.6.3->tensorboard<2.9,>=2.8->tensorflow==2.8.0) (0.3.0)\n",
            "Requirement already satisfied: rsa<5,>=3.1.4 in /usr/local/lib/python3.10/dist-packages (from google-auth<3,>=1.6.3->tensorboard<2.9,>=2.8->tensorflow==2.8.0) (4.9)\n",
            "Requirement already satisfied: requests-oauthlib>=0.7.0 in /usr/local/lib/python3.10/dist-packages (from google-auth-oauthlib<0.5,>=0.4.1->tensorboard<2.9,>=2.8->tensorflow==2.8.0) (1.3.1)\n",
            "Requirement already satisfied: urllib3<1.27,>=1.21.1 in /usr/local/lib/python3.10/dist-packages (from requests<3,>=2.21.0->tensorboard<2.9,>=2.8->tensorflow==2.8.0) (1.26.15)\n",
            "Requirement already satisfied: certifi>=2017.4.17 in /usr/local/lib/python3.10/dist-packages (from requests<3,>=2.21.0->tensorboard<2.9,>=2.8->tensorflow==2.8.0) (2022.12.7)\n",
            "Requirement already satisfied: charset-normalizer~=2.0.0 in /usr/local/lib/python3.10/dist-packages (from requests<3,>=2.21.0->tensorboard<2.9,>=2.8->tensorflow==2.8.0) (2.0.12)\n",
            "Requirement already satisfied: idna<4,>=2.5 in /usr/local/lib/python3.10/dist-packages (from requests<3,>=2.21.0->tensorboard<2.9,>=2.8->tensorflow==2.8.0) (3.4)\n",
            "Requirement already satisfied: MarkupSafe>=2.1.1 in /usr/local/lib/python3.10/dist-packages (from werkzeug>=0.11.15->tensorboard<2.9,>=2.8->tensorflow==2.8.0) (2.1.2)\n",
            "Requirement already satisfied: pyasn1<0.6.0,>=0.4.6 in /usr/local/lib/python3.10/dist-packages (from pyasn1-modules>=0.2.1->google-auth<3,>=1.6.3->tensorboard<2.9,>=2.8->tensorflow==2.8.0) (0.5.0)\n",
            "Requirement already satisfied: oauthlib>=3.0.0 in /usr/local/lib/python3.10/dist-packages (from requests-oauthlib>=0.7.0->google-auth-oauthlib<0.5,>=0.4.1->tensorboard<2.9,>=2.8->tensorflow==2.8.0) (3.2.2)\n",
            "Installing collected packages: tf-estimator-nightly, keras, tensorboard-data-server, keras-preprocessing, google-auth-oauthlib, tensorboard, tensorflow\n",
            "  Attempting uninstall: keras\n",
            "    Found existing installation: keras 2.12.0\n",
            "    Uninstalling keras-2.12.0:\n",
            "      Successfully uninstalled keras-2.12.0\n",
            "  Attempting uninstall: tensorboard-data-server\n",
            "    Found existing installation: tensorboard-data-server 0.7.0\n",
            "    Uninstalling tensorboard-data-server-0.7.0:\n",
            "      Successfully uninstalled tensorboard-data-server-0.7.0\n",
            "  Attempting uninstall: google-auth-oauthlib\n",
            "    Found existing installation: google-auth-oauthlib 1.0.0\n",
            "    Uninstalling google-auth-oauthlib-1.0.0:\n",
            "      Successfully uninstalled google-auth-oauthlib-1.0.0\n",
            "  Attempting uninstall: tensorboard\n",
            "    Found existing installation: tensorboard 2.12.2\n",
            "    Uninstalling tensorboard-2.12.2:\n",
            "      Successfully uninstalled tensorboard-2.12.2\n",
            "  Attempting uninstall: tensorflow\n",
            "    Found existing installation: tensorflow 2.12.0\n",
            "    Uninstalling tensorflow-2.12.0:\n",
            "      Successfully uninstalled tensorflow-2.12.0\n",
            "Successfully installed google-auth-oauthlib-0.4.6 keras-2.8.0 keras-preprocessing-1.1.2 tensorboard-2.8.0 tensorboard-data-server-0.6.1 tensorflow-2.8.0 tf-estimator-nightly-2.8.0.dev2021122109\n"
          ]
        }
      ]
    },
    {
      "cell_type": "code",
      "source": [
        "#Install seaborn\n",
        "!pip install seaborn==0.11.1"
      ],
      "metadata": {
        "colab": {
          "base_uri": "https://localhost:8080/"
        },
        "id": "lGDo_-KLWhD-",
        "outputId": "abd98a28-150b-4e49-ff9d-e469cada5f10"
      },
      "execution_count": 4,
      "outputs": [
        {
          "output_type": "stream",
          "name": "stdout",
          "text": [
            "Looking in indexes: https://pypi.org/simple, https://us-python.pkg.dev/colab-wheels/public/simple/\n",
            "Requirement already satisfied: seaborn==0.11.1 in /usr/local/lib/python3.10/dist-packages (0.11.1)\n",
            "Requirement already satisfied: numpy>=1.15 in /usr/local/lib/python3.10/dist-packages (from seaborn==0.11.1) (1.22.4)\n",
            "Requirement already satisfied: scipy>=1.0 in /usr/local/lib/python3.10/dist-packages (from seaborn==0.11.1) (1.10.1)\n",
            "Requirement already satisfied: pandas>=0.23 in /usr/local/lib/python3.10/dist-packages (from seaborn==0.11.1) (1.5.3)\n",
            "Requirement already satisfied: matplotlib>=2.2 in /usr/local/lib/python3.10/dist-packages (from seaborn==0.11.1) (3.7.1)\n",
            "Requirement already satisfied: contourpy>=1.0.1 in /usr/local/lib/python3.10/dist-packages (from matplotlib>=2.2->seaborn==0.11.1) (1.0.7)\n",
            "Requirement already satisfied: cycler>=0.10 in /usr/local/lib/python3.10/dist-packages (from matplotlib>=2.2->seaborn==0.11.1) (0.11.0)\n",
            "Requirement already satisfied: fonttools>=4.22.0 in /usr/local/lib/python3.10/dist-packages (from matplotlib>=2.2->seaborn==0.11.1) (4.39.3)\n",
            "Requirement already satisfied: kiwisolver>=1.0.1 in /usr/local/lib/python3.10/dist-packages (from matplotlib>=2.2->seaborn==0.11.1) (1.4.4)\n",
            "Requirement already satisfied: packaging>=20.0 in /usr/local/lib/python3.10/dist-packages (from matplotlib>=2.2->seaborn==0.11.1) (23.1)\n",
            "Requirement already satisfied: pillow>=6.2.0 in /usr/local/lib/python3.10/dist-packages (from matplotlib>=2.2->seaborn==0.11.1) (8.4.0)\n",
            "Requirement already satisfied: pyparsing>=2.3.1 in /usr/local/lib/python3.10/dist-packages (from matplotlib>=2.2->seaborn==0.11.1) (3.0.9)\n",
            "Requirement already satisfied: python-dateutil>=2.7 in /usr/local/lib/python3.10/dist-packages (from matplotlib>=2.2->seaborn==0.11.1) (2.8.2)\n",
            "Requirement already satisfied: pytz>=2020.1 in /usr/local/lib/python3.10/dist-packages (from pandas>=0.23->seaborn==0.11.1) (2022.7.1)\n",
            "Requirement already satisfied: six>=1.5 in /usr/local/lib/python3.10/dist-packages (from python-dateutil>=2.7->matplotlib>=2.2->seaborn==0.11.1) (1.16.0)\n"
          ]
        }
      ]
    },
    {
      "cell_type": "markdown",
      "source": [
        "## Import the modules"
      ],
      "metadata": {
        "id": "BjOvhXDhclMB"
      }
    },
    {
      "cell_type": "code",
      "execution_count": 5,
      "metadata": {
        "id": "GdOiAFNMLazz"
      },
      "outputs": [],
      "source": [
        "import pandas as pd\n",
        "import numpy as np\n",
        "from scipy import stats\n",
        "import seaborn as sns\n",
        "sns.set_style(\"whitegrid\")\n",
        "import matplotlib.pyplot as plt\n",
        "from keras.datasets import imdb\n",
        "from keras_preprocessing.sequence import pad_sequences\n",
        "from keras.models import Sequential\n",
        "from keras.layers.embeddings import Embedding\n",
        "from keras.layers import SimpleRNN,Dense, Activation\n",
        "from scipy.spatial import distance  \n",
        "from keras.callbacks import ModelCheckpoint\n",
        "from keras.models import load_model\n",
        "from sklearn.metrics import classification_report\n",
        "from tensorflow.keras import backend as K"
      ]
    },
    {
      "cell_type": "markdown",
      "source": [
        "## Download and initialise the dataset"
      ],
      "metadata": {
        "id": "W89AfS8BSJ3D"
      }
    },
    {
      "cell_type": "code",
      "source": [
        "num_words = 15000\n",
        "(X_train,Y_train), (X_test, Y_test) = imdb.load_data(path = \"imdb.npz\",\n",
        "                                    num_words = num_words)"
      ],
      "metadata": {
        "id": "zaRlQulTSZY-",
        "colab": {
          "base_uri": "https://localhost:8080/"
        },
        "outputId": "196ecdf9-d3a6-492d-9290-6165a6032c03"
      },
      "execution_count": 6,
      "outputs": [
        {
          "output_type": "stream",
          "name": "stdout",
          "text": [
            "Downloading data from https://storage.googleapis.com/tensorflow/tf-keras-datasets/imdb.npz\n",
            "17465344/17464789 [==============================] - 0s 0us/step\n",
            "17473536/17464789 [==============================] - 0s 0us/step\n"
          ]
        }
      ]
    },
    {
      "cell_type": "code",
      "source": [
        "#Shape of the training set\n",
        "print(\"X train shape: \",X_train.shape)\n",
        "print(\"Y train shape: \",Y_train.shape)"
      ],
      "metadata": {
        "colab": {
          "base_uri": "https://localhost:8080/"
        },
        "id": "KXDj25MIUkia",
        "outputId": "5e4e4462-5fe3-4d19-c175-8dbd4a608080"
      },
      "execution_count": 7,
      "outputs": [
        {
          "output_type": "stream",
          "name": "stdout",
          "text": [
            "X train shape:  (25000,)\n",
            "Y train shape:  (25000,)\n"
          ]
        }
      ]
    },
    {
      "cell_type": "code",
      "source": [
        "#Label values in training and test set\n",
        "print(\"Y train values: \",np.unique(Y_train))\n",
        "print(\"Y test values: \",np.unique(Y_test))"
      ],
      "metadata": {
        "colab": {
          "base_uri": "https://localhost:8080/"
        },
        "id": "QU1Owvc7UoLy",
        "outputId": "7e66a7b5-91b0-412a-c98c-09f4c05ad0d0"
      },
      "execution_count": 8,
      "outputs": [
        {
          "output_type": "stream",
          "name": "stdout",
          "text": [
            "Y train values:  [0 1]\n",
            "Y test values:  [0 1]\n"
          ]
        }
      ]
    },
    {
      "cell_type": "code",
      "source": [
        "#Distribution of the training set\n",
        "unique,  counts = np.unique(Y_train, return_counts = True)\n",
        "print(\"Y train distribution: \", dict(zip(unique,counts)))"
      ],
      "metadata": {
        "colab": {
          "base_uri": "https://localhost:8080/"
        },
        "id": "o_rosQf8Urxn",
        "outputId": "4394687b-8d9e-46c3-fb19-839935cd576a"
      },
      "execution_count": 9,
      "outputs": [
        {
          "output_type": "stream",
          "name": "stdout",
          "text": [
            "Y train distribution:  {0: 12500, 1: 12500}\n"
          ]
        }
      ]
    },
    {
      "cell_type": "code",
      "source": [
        "#Distribution of the test set\n",
        "unique,  counts = np.unique(Y_test, return_counts = True)\n",
        "print(\"Y test distribution: \", dict(zip(unique,counts)))"
      ],
      "metadata": {
        "colab": {
          "base_uri": "https://localhost:8080/"
        },
        "id": "aAFSbvfIUvLJ",
        "outputId": "594a5ff1-ad46-431a-99db-2403b79cef37"
      },
      "execution_count": 10,
      "outputs": [
        {
          "output_type": "stream",
          "name": "stdout",
          "text": [
            "Y test distribution:  {0: 12500, 1: 12500}\n"
          ]
        }
      ]
    },
    {
      "cell_type": "code",
      "source": [
        "#Plot of the Training set\n",
        "plt.figure(figsize = (6,6))\n",
        "sns.countplot(x = Y_train)\n",
        "plt.xlabel(\"Classes\")\n",
        "plt.ylabel(\"Freq\")\n",
        "plt.title(\"Y train\")\n",
        "plt.show()"
      ],
      "metadata": {
        "colab": {
          "base_uri": "https://localhost:8080/",
          "height": 564
        },
        "id": "NLNLtlwZUy-8",
        "outputId": "2a048e62-d532-4b64-f666-6b47a1e9e273"
      },
      "execution_count": 11,
      "outputs": [
        {
          "output_type": "display_data",
          "data": {
            "text/plain": [
              "<Figure size 600x600 with 1 Axes>"
            ],
            "image/png": "[encoded data removed]"
          },
          "metadata": {}
        }
      ]
    },
    {
      "cell_type": "code",
      "source": [
        "#Plot of the test set\n",
        "plt.figure(figsize = (6,6))\n",
        "sns.countplot(x = Y_test)\n",
        "plt.xlabel(\"Classes\")\n",
        "plt.ylabel(\"Freq\")\n",
        "plt.title(\"Y test\")\n",
        "plt.show()"
      ],
      "metadata": {
        "colab": {
          "base_uri": "https://localhost:8080/",
          "height": 564
        },
        "id": "CNPPgi0_U2Ri",
        "outputId": "63028657-8fe3-406e-ec0d-4bc01427463a"
      },
      "execution_count": 12,
      "outputs": [
        {
          "output_type": "display_data",
          "data": {
            "text/plain": [
              "<Figure size 600x600 with 1 Axes>"
            ],
            "image/png": "[encoded data removed]"
          },
          "metadata": {}
        }
      ]
    },
    {
      "cell_type": "code",
      "source": [
        "#Plot of the training and test set probability density distribution according to the length of the sequence\n",
        "review_len_train = []\n",
        "review_len_test = []\n",
        "for i,ii in zip(X_train, X_test):\n",
        "    review_len_train.append(len(i))\n",
        "    review_len_test.append(len(ii))\n",
        "\n",
        "plt.figure(figsize = (10,6))\n",
        "sns.distplot(review_len_train, hist_kws = {\"alpha\":0.1})\n",
        "sns.distplot(review_len_test, hist_kws = {\"alpha\":0.3})\n",
        "plt.show()"
      ],
      "metadata": {
        "colab": {
          "base_uri": "https://localhost:8080/",
          "height": 563
        },
        "id": "fccaSwmHaPrV",
        "outputId": "37b1d997-a3b9-474e-9f69-90fb9d46b69c"
      },
      "execution_count": 13,
      "outputs": [
        {
          "output_type": "stream",
          "name": "stderr",
          "text": [
            "/usr/local/lib/python3.10/dist-packages/seaborn/distributions.py:2557: FutureWarning: `distplot` is a deprecated function and will be removed in a future version. Please adapt your code to use either `displot` (a figure-level function with similar flexibility) or `histplot` (an axes-level function for histograms).\n",
            "  warnings.warn(msg, FutureWarning)\n",
            "/usr/local/lib/python3.10/dist-packages/seaborn/distributions.py:2557: FutureWarning: `distplot` is a deprecated function and will be removed in a future version. Please adapt your code to use either `displot` (a figure-level function with similar flexibility) or `histplot` (an axes-level function for histograms).\n",
            "  warnings.warn(msg, FutureWarning)\n"
          ]
        },
        {
          "output_type": "display_data",
          "data": {
            "text/plain": [
              "<Figure size 1000x600 with 1 Axes>"
            ],
            "image/png": "[encoded data removed]"
          },
          "metadata": {}
        }
      ]
    },
    {
      "cell_type": "code",
      "source": [
        "line = sns.distplot(review_len_train).get_lines()[0]\n",
        "plt.plot(line.get_xdata(), line.get_ydata())"
      ],
      "metadata": {
        "colab": {
          "base_uri": "https://localhost:8080/",
          "height": 504
        },
        "id": "MHLiKgDn1IN-",
        "outputId": "e1992e72-c165-4cfc-9740-79ff988e8803"
      },
      "execution_count": 14,
      "outputs": [
        {
          "output_type": "stream",
          "name": "stderr",
          "text": [
            "/usr/local/lib/python3.10/dist-packages/seaborn/distributions.py:2557: FutureWarning: `distplot` is a deprecated function and will be removed in a future version. Please adapt your code to use either `displot` (a figure-level function with similar flexibility) or `histplot` (an axes-level function for histograms).\n",
            "  warnings.warn(msg, FutureWarning)\n"
          ]
        },
        {
          "output_type": "execute_result",
          "data": {
            "text/plain": [
              "[<matplotlib.lines.Line2D at 0x7ff494004340>]"
            ]
          },
          "metadata": {},
          "execution_count": 14
        },
        {
          "output_type": "display_data",
          "data": {
            "text/plain": [
              "<Figure size 640x480 with 1 Axes>"
            ],
            "image/png": "[encoded data removed]"
          },
          "metadata": {}
        }
      ]
    },
    {
      "cell_type": "code",
      "source": [
        "x_data = list(line.get_xdata())"
      ],
      "metadata": {
        "id": "-Iw60hy01zTU"
      },
      "execution_count": 15,
      "outputs": []
    },
    {
      "cell_type": "code",
      "source": [
        "y_data = list(line.get_ydata())"
      ],
      "metadata": {
        "id": "pKH9ZcxR38tT"
      },
      "execution_count": 16,
      "outputs": []
    },
    {
      "cell_type": "code",
      "source": [
        "#Max distribution point of the sequence length according to the y-axis\n",
        "np.argmax(y_data)"
      ],
      "metadata": {
        "colab": {
          "base_uri": "https://localhost:8080/"
        },
        "id": "BJctyiV_18b6",
        "outputId": "4ae658b4-7100-499e-a9e1-ebb05e1950ef"
      },
      "execution_count": 17,
      "outputs": [
        {
          "output_type": "execute_result",
          "data": {
            "text/plain": [
              "15"
            ]
          },
          "metadata": {},
          "execution_count": 17
        }
      ]
    },
    {
      "cell_type": "code",
      "source": [
        "#Max distribution point sequence length\n",
        "x_data[15]"
      ],
      "metadata": {
        "colab": {
          "base_uri": "https://localhost:8080/"
        },
        "id": "kNqgBKx23vF8",
        "outputId": "df80def9-0f04-4ce1-92ea-cce914a0049f"
      },
      "execution_count": 18,
      "outputs": [
        {
          "output_type": "execute_result",
          "data": {
            "text/plain": [
              "138.82665607886247"
            ]
          },
          "metadata": {},
          "execution_count": 18
        }
      ]
    },
    {
      "cell_type": "code",
      "source": [
        "#Statistics of the distribution\n",
        "print(\"Train Mean:\", np.mean(review_len_train))\n",
        "print(\"Train Median:\", np.median(review_len_train))\n",
        "print(\"Train Mode:\", stats.mode(review_len_train)[0][0])"
      ],
      "metadata": {
        "colab": {
          "base_uri": "https://localhost:8080/"
        },
        "id": "vRvjpakTaUkm",
        "outputId": "5b342a10-7c58-4846-fac7-07647c12513b"
      },
      "execution_count": 19,
      "outputs": [
        {
          "output_type": "stream",
          "name": "stdout",
          "text": [
            "Train Mean: 238.71364\n",
            "Train Median: 178.0\n",
            "Train Mode: 132\n"
          ]
        },
        {
          "output_type": "stream",
          "name": "stderr",
          "text": [
            "<ipython-input-19-3cf46ddd9682>:4: FutureWarning: Unlike other reduction functions (e.g. `skew`, `kurtosis`), the default behavior of `mode` typically preserves the axis it acts along. In SciPy 1.11.0, this behavior will change: the default value of `keepdims` will become False, the `axis` over which the statistic is taken will be eliminated, and the value None will no longer be accepted. Set `keepdims` to True or False to avoid this warning.\n",
            "  print(\"Train Mode:\", stats.mode(review_len_train)[0][0])\n"
          ]
        }
      ]
    },
    {
      "cell_type": "code",
      "source": [
        "#Download the mapping to word data\n",
        "word_index = imdb.get_word_index()\n",
        "print(type(word_index))"
      ],
      "metadata": {
        "colab": {
          "base_uri": "https://localhost:8080/"
        },
        "id": "0pFHuJlkac0f",
        "outputId": "357f5cac-4dd2-4eb6-8682-28ac972cf0ac"
      },
      "execution_count": 20,
      "outputs": [
        {
          "output_type": "stream",
          "name": "stdout",
          "text": [
            "Downloading data from https://storage.googleapis.com/tensorflow/tf-keras-datasets/imdb_word_index.json\n",
            "1646592/1641221 [==============================] - 0s 0us/step\n",
            "1654784/1641221 [==============================] - 0s 0us/step\n",
            "<class 'dict'>\n"
          ]
        }
      ]
    },
    {
      "cell_type": "code",
      "source": [
        "#Function to decode the sequence in words\n",
        "def whatItSay(X_tmp,index = 0):\n",
        "    \n",
        "    reverse_index = dict([(value,key) for (key, value) in word_index.items()])\n",
        "    decode_review = \" \".join([reverse_index.get(i - 3, \"!\") for i in X_tmp[index]])\n",
        "    print(decode_review)\n",
        "    \n",
        "    return decode_review"
      ],
      "metadata": {
        "id": "2EfBukRdaky9"
      },
      "execution_count": 21,
      "outputs": []
    },
    {
      "cell_type": "code",
      "source": [
        "decoded_review = whatItSay(X_train,10)"
      ],
      "metadata": {
        "colab": {
          "base_uri": "https://localhost:8080/"
        },
        "id": "9qQWk9vOapRJ",
        "outputId": "fe75c573-5ea2-4bf9-bc3d-bec23c7e3e0f"
      },
      "execution_count": 22,
      "outputs": [
        {
          "output_type": "stream",
          "name": "stdout",
          "text": [
            "! french horror cinema has seen something of a revival over the last couple of years with great films such as inside and ! romance bursting on to the scene maléfique preceded the revival just slightly but stands head and shoulders over most modern horror titles and is surely one of the best french horror films ever made maléfique was obviously shot on a low budget but this is made up for in far more ways than one by the originality of the film and this in turn is ! by the excellent writing and acting that ensure the film is a winner the plot focuses on two main ideas prison and black magic the central character is a man named carrère sent to prison for fraud he is put in a cell with three others the quietly insane ! body building transvestite marcus and his retarded boyfriend daisy after a short while in the cell together they stumble upon a hiding place in the wall that contains an old journal after ! part of it they soon realise its magical powers and realise they may be able to use it to break through the prison walls br br black magic is a very interesting topic and i'm actually quite surprised that there aren't more films based on it as there's so much scope for things to do with it it's fair to say that maléfique makes the best of it's assets as despite it's ! the film never actually feels restrained and manages to flow well throughout director eric ! provides a great atmosphere for the film the fact that most of it takes place inside the central prison cell ensures that the film feels very claustrophobic and this immensely benefits the central idea of the prisoners wanting to use magic to break out of the cell it's very easy to get behind them it's often said that the unknown is the thing that really ! people and this film proves that as the director ensures that we can never really be sure of exactly what is round the corner and this helps to ensure that maléfique actually does manage to be quite frightening the film is memorable for a lot of reasons outside the central plot the characters are all very interesting in their own way and the fact that the book itself almost takes on its own character is very well done anyone worried that the film won't deliver by the end won't be disappointed either as the ending both makes sense and manages to be quite horrifying overall maléfique is a truly great horror film and one of the best of the decade highly recommended viewing\n"
          ]
        }
      ]
    },
    {
      "cell_type": "code",
      "source": [
        "print(X_train[5])\n",
        "decoded_review = whatItSay(X_train,5)"
      ],
      "metadata": {
        "colab": {
          "base_uri": "https://localhost:8080/"
        },
        "id": "4GMcUjL_CA2R",
        "outputId": "a80955e6-faee-4ab0-fdf1-b55ce4e5567d"
      },
      "execution_count": 26,
      "outputs": [
        {
          "output_type": "stream",
          "name": "stdout",
          "text": [
            "[1, 778, 128, 74, 12, 630, 163, 15, 4, 1766, 7982, 1051, 2, 32, 85, 156, 45, 40, 148, 139, 121, 664, 665, 10, 10, 1361, 173, 4, 749, 2, 16, 3804, 8, 4, 226, 65, 12, 43, 127, 24, 2, 10, 10]\n",
            "! begins better than it ends funny that the russian submarine crew ! all other actors it's like those scenes where documentary shots br br spoiler part the message ! was contrary to the whole story it just does not ! br br\n"
          ]
        }
      ]
    },
    {
      "cell_type": "markdown",
      "source": [
        "## Data for training the post padded sequence data"
      ],
      "metadata": {
        "id": "HGuExHiRUH4s"
      }
    },
    {
      "cell_type": "code",
      "source": [
        "maxlen = 200"
      ],
      "metadata": {
        "id": "zAN0H0aSpuoU"
      },
      "execution_count": 27,
      "outputs": []
    },
    {
      "cell_type": "code",
      "source": [
        "def get_data(X_tmp_1,X_tmp_2,padding):\n",
        "  X_train_pad = pad_sequences(X_tmp_1, maxlen = maxlen,padding= padding)\n",
        "  X_test_pad = pad_sequences(X_tmp_2, maxlen = maxlen,padding= padding)\n",
        "\n",
        "  print(X_train_pad[5])\n",
        "\n",
        "    \n",
        "  decoded_review = whatItSay(X_train_pad,5)\n",
        "  return X_train_pad,X_test_pad"
      ],
      "metadata": {
        "id": "jP2FpOatqaxX"
      },
      "execution_count": 28,
      "outputs": []
    },
    {
      "cell_type": "code",
      "source": [
        "padding= 'post'\n",
        "X_train_postpad,X_test_postpad = get_data(X_train,X_test,padding)"
      ],
      "metadata": {
        "colab": {
          "base_uri": "https://localhost:8080/"
        },
        "id": "qLKIMMy7bCr6",
        "outputId": "5bd0abe5-74bf-41c5-b885-369cf7289997"
      },
      "execution_count": 29,
      "outputs": [
        {
          "output_type": "stream",
          "name": "stdout",
          "text": [
            "[   1  778  128   74   12  630  163   15    4 1766 7982 1051    2   32\n",
            "   85  156   45   40  148  139  121  664  665   10   10 1361  173    4\n",
            "  749    2   16 3804    8    4  226   65   12   43  127   24    2   10\n",
            "   10    0    0    0    0    0    0    0    0    0    0    0    0    0\n",
            "    0    0    0    0    0    0    0    0    0    0    0    0    0    0\n",
            "    0    0    0    0    0    0    0    0    0    0    0    0    0    0\n",
            "    0    0    0    0    0    0    0    0    0    0    0    0    0    0\n",
            "    0    0    0    0    0    0    0    0    0    0    0    0    0    0\n",
            "    0    0    0    0    0    0    0    0    0    0    0    0    0    0\n",
            "    0    0    0    0    0    0    0    0    0    0    0    0    0    0\n",
            "    0    0    0    0    0    0    0    0    0    0    0    0    0    0\n",
            "    0    0    0    0    0    0    0    0    0    0    0    0    0    0\n",
            "    0    0    0    0    0    0    0    0    0    0    0    0    0    0\n",
            "    0    0    0    0    0    0    0    0    0    0    0    0    0    0\n",
            "    0    0    0    0]\n",
            "! begins better than it ends funny that the russian submarine crew ! all other actors it's like those scenes where documentary shots br br spoiler part the message ! was contrary to the whole story it just does not ! br br ! ! ! ! ! ! ! ! ! ! ! ! ! ! ! ! ! ! ! ! ! ! ! ! ! ! ! ! ! ! ! ! ! ! ! ! ! ! ! ! ! ! ! ! ! ! ! ! ! ! ! ! ! ! ! ! ! ! ! ! ! ! ! ! ! ! ! ! ! ! ! ! ! ! ! ! ! ! ! ! ! ! ! ! ! ! ! ! ! ! ! ! ! ! ! ! ! ! ! ! ! ! ! ! ! ! ! ! ! ! ! ! ! ! ! ! ! ! ! ! ! ! ! ! ! ! ! ! ! ! ! ! ! ! ! ! ! ! ! ! ! ! ! ! ! ! ! ! ! ! ! ! ! ! ! ! !\n"
          ]
        }
      ]
    },
    {
      "cell_type": "markdown",
      "source": [
        "## Model definition"
      ],
      "metadata": {
        "id": "JQLjzdOUUVyA"
      }
    },
    {
      "cell_type": "code",
      "source": [
        "#Model function definition\n",
        "def get_model(X_tmp_2):\n",
        "  rnn = Sequential()\n",
        "  rnn.add(Embedding(num_words, 32, input_length = len(X_tmp_2[0])))\n",
        "  rnn.add(SimpleRNN(16, input_shape = (num_words, maxlen), return_sequences = False, activation = \"relu\"))\n",
        "  rnn.add(Dense(1))\n",
        "  rnn.add(Activation(\"sigmoid\"))\n",
        "\n",
        "  print(rnn.summary())\n",
        "  rnn.compile(loss = \"binary_crossentropy\", optimizer = \"rmsprop\", metrics = [\"accuracy\"])\n",
        "  return rnn"
      ],
      "metadata": {
        "id": "nrbTLaG0JCBU"
      },
      "execution_count": 30,
      "outputs": []
    },
    {
      "cell_type": "code",
      "source": [
        "# Model\n",
        "model_postpad = get_model(X_train_postpad)"
      ],
      "metadata": {
        "colab": {
          "base_uri": "https://localhost:8080/"
        },
        "id": "PM-d9MwKcqGv",
        "outputId": "6b0a31ec-fa28-4419-b6df-8840633c3934"
      },
      "execution_count": 31,
      "outputs": [
        {
          "output_type": "stream",
          "name": "stdout",
          "text": [
            "Model: \"sequential\"\n",
            "_________________________________________________________________\n",
            " Layer (type)                Output Shape              Param #   \n",
            "=================================================================\n",
            " embedding (Embedding)       (None, 200, 32)           480000    \n",
            "                                                                 \n",
            " simple_rnn (SimpleRNN)      (None, 16)                784       \n",
            "                                                                 \n",
            " dense (Dense)               (None, 1)                 17        \n",
            "                                                                 \n",
            " activation (Activation)     (None, 1)                 0         \n",
            "                                                                 \n",
            "=================================================================\n",
            "Total params: 480,801\n",
            "Trainable params: 480,801\n",
            "Non-trainable params: 0\n",
            "_________________________________________________________________\n",
            "None\n"
          ]
        }
      ]
    },
    {
      "cell_type": "code",
      "source": [
        "#create callback for saving the checkpoint\n",
        "filepath = 'rnn_model_postpad_imdb_best_model.hdf5'\n",
        "checkpoint = ModelCheckpoint(filepath=filepath, \n",
        "                             monitor='val_loss',\n",
        "                             verbose=1, \n",
        "                             save_best_only=True,\n",
        "                             mode='min')"
      ],
      "metadata": {
        "id": "q9izVWNGFLxf"
      },
      "execution_count": null,
      "outputs": []
    },
    {
      "cell_type": "code",
      "source": [
        "callbacks = [checkpoint]"
      ],
      "metadata": {
        "id": "hl2CfsXQFN-G"
      },
      "execution_count": null,
      "outputs": []
    },
    {
      "cell_type": "markdown",
      "source": [
        "## Train the postpad model"
      ],
      "metadata": {
        "id": "AuZ_kv_8bKuy"
      }
    },
    {
      "cell_type": "code",
      "source": [
        "history = model_postpad.fit(X_train_postpad,Y_train, validation_data = (X_test_postpad, Y_test),epochs = 20, batch_size = 128, verbose = 1,callbacks=callbacks)"
      ],
      "metadata": {
        "colab": {
          "base_uri": "https://localhost:8080/"
        },
        "id": "2CDPHjeNCpvu",
        "outputId": "ef50542f-1487-47f4-ed71-89ee3a340312"
      },
      "execution_count": null,
      "outputs": [
        {
          "output_type": "stream",
          "name": "stdout",
          "text": [
            "Epoch 1/20\n",
            "196/196 [==============================] - ETA: 0s - loss: 0.6821 - accuracy: 0.5456\n",
            "Epoch 1: val_loss improved from inf to 0.67019, saving model to rnn_model_postpad_imdb_best_model.hdf5\n",
            "196/196 [==============================] - 23s 113ms/step - loss: 0.6821 - accuracy: 0.5456 - val_loss: 0.6702 - val_accuracy: 0.5860\n",
            "Epoch 2/20\n",
            "196/196 [==============================] - ETA: 0s - loss: 0.6266 - accuracy: 0.6886\n",
            "Epoch 2: val_loss improved from 0.67019 to 0.55368, saving model to rnn_model_postpad_imdb_best_model.hdf5\n",
            "196/196 [==============================] - 21s 106ms/step - loss: 0.6266 - accuracy: 0.6886 - val_loss: 0.5537 - val_accuracy: 0.7614\n",
            "Epoch 3/20\n",
            "196/196 [==============================] - ETA: 0s - loss: 0.5016 - accuracy: 0.8116\n",
            "Epoch 3: val_loss improved from 0.55368 to 0.48076, saving model to rnn_model_postpad_imdb_best_model.hdf5\n",
            "196/196 [==============================] - 19s 97ms/step - loss: 0.5016 - accuracy: 0.8116 - val_loss: 0.4808 - val_accuracy: 0.8034\n",
            "Epoch 4/20\n",
            "196/196 [==============================] - ETA: 0s - loss: 0.4353 - accuracy: 0.8484\n",
            "Epoch 4: val_loss improved from 0.48076 to 0.44494, saving model to rnn_model_postpad_imdb_best_model.hdf5\n",
            "196/196 [==============================] - 19s 98ms/step - loss: 0.4353 - accuracy: 0.8484 - val_loss: 0.4449 - val_accuracy: 0.8241\n",
            "Epoch 5/20\n",
            "196/196 [==============================] - ETA: 0s - loss: 0.4538 - accuracy: 0.8571\n",
            "Epoch 5: val_loss did not improve from 0.44494\n",
            "196/196 [==============================] - 19s 97ms/step - loss: 0.4538 - accuracy: 0.8571 - val_loss: 0.4867 - val_accuracy: 0.7968\n",
            "Epoch 6/20\n",
            "196/196 [==============================] - ETA: 0s - loss: 0.3918 - accuracy: 0.8658\n",
            "Epoch 6: val_loss did not improve from 0.44494\n",
            "196/196 [==============================] - 20s 100ms/step - loss: 0.3918 - accuracy: 0.8658 - val_loss: 0.4591 - val_accuracy: 0.8096\n",
            "Epoch 7/20\n",
            "196/196 [==============================] - ETA: 0s - loss: 0.6890 - accuracy: 0.8714\n",
            "Epoch 7: val_loss did not improve from 0.44494\n",
            "196/196 [==============================] - 21s 107ms/step - loss: 0.6890 - accuracy: 0.8714 - val_loss: 0.4975 - val_accuracy: 0.7835\n",
            "Epoch 8/20\n",
            "196/196 [==============================] - ETA: 0s - loss: 0.3449 - accuracy: 0.8803\n",
            "Epoch 8: val_loss did not improve from 0.44494\n",
            "196/196 [==============================] - 20s 100ms/step - loss: 0.3449 - accuracy: 0.8803 - val_loss: 0.5010 - val_accuracy: 0.8076\n",
            "Epoch 9/20\n",
            "196/196 [==============================] - ETA: 0s - loss: 0.3330 - accuracy: 0.8874\n",
            "Epoch 9: val_loss did not improve from 0.44494\n",
            "196/196 [==============================] - 19s 97ms/step - loss: 0.3330 - accuracy: 0.8874 - val_loss: 0.4676 - val_accuracy: 0.8068\n",
            "Epoch 10/20\n",
            "196/196 [==============================] - ETA: 0s - loss: 0.3518 - accuracy: 0.8836\n",
            "Epoch 10: val_loss did not improve from 0.44494\n",
            "196/196 [==============================] - 19s 98ms/step - loss: 0.3518 - accuracy: 0.8836 - val_loss: 0.6913 - val_accuracy: 0.7987\n",
            "Epoch 11/20\n",
            "196/196 [==============================] - ETA: 0s - loss: 0.3402 - accuracy: 0.8665\n",
            "Epoch 11: val_loss did not improve from 0.44494\n",
            "196/196 [==============================] - 19s 98ms/step - loss: 0.3402 - accuracy: 0.8665 - val_loss: 0.5718 - val_accuracy: 0.8044\n",
            "Epoch 12/20\n",
            "196/196 [==============================] - ETA: 0s - loss: 0.3536 - accuracy: 0.8691\n",
            "Epoch 12: val_loss did not improve from 0.44494\n",
            "196/196 [==============================] - 21s 107ms/step - loss: 0.3536 - accuracy: 0.8691 - val_loss: 0.4990 - val_accuracy: 0.7925\n",
            "Epoch 13/20\n",
            "196/196 [==============================] - ETA: 0s - loss: 0.3369 - accuracy: 0.8674\n",
            "Epoch 13: val_loss did not improve from 0.44494\n",
            "196/196 [==============================] - 20s 101ms/step - loss: 0.3369 - accuracy: 0.8674 - val_loss: 0.4912 - val_accuracy: 0.7873\n",
            "Epoch 14/20\n",
            "195/196 [============================>.] - ETA: 0s - loss: 0.3090 - accuracy: 0.8862\n",
            "Epoch 14: val_loss did not improve from 0.44494\n",
            "196/196 [==============================] - 19s 97ms/step - loss: 0.3090 - accuracy: 0.8861 - val_loss: 0.5589 - val_accuracy: 0.7803\n",
            "Epoch 15/20\n",
            "196/196 [==============================] - ETA: 0s - loss: 0.2976 - accuracy: 0.8918\n",
            "Epoch 15: val_loss did not improve from 0.44494\n",
            "196/196 [==============================] - 19s 98ms/step - loss: 0.2976 - accuracy: 0.8918 - val_loss: 0.5122 - val_accuracy: 0.7924\n",
            "Epoch 16/20\n",
            "196/196 [==============================] - ETA: 0s - loss: 0.3115 - accuracy: 0.8868\n",
            "Epoch 16: val_loss did not improve from 0.44494\n",
            "196/196 [==============================] - 20s 100ms/step - loss: 0.3115 - accuracy: 0.8868 - val_loss: 0.5333 - val_accuracy: 0.7926\n",
            "Epoch 17/20\n",
            "195/196 [============================>.] - ETA: 0s - loss: 0.3129 - accuracy: 0.8706\n",
            "Epoch 17: val_loss did not improve from 0.44494\n",
            "196/196 [==============================] - 21s 108ms/step - loss: 0.3130 - accuracy: 0.8705 - val_loss: 0.5445 - val_accuracy: 0.7719\n",
            "Epoch 18/20\n",
            "196/196 [==============================] - ETA: 0s - loss: 0.2892 - accuracy: 0.8882\n",
            "Epoch 18: val_loss did not improve from 0.44494\n",
            "196/196 [==============================] - 19s 99ms/step - loss: 0.2892 - accuracy: 0.8882 - val_loss: 0.5337 - val_accuracy: 0.7941\n",
            "Epoch 19/20\n",
            "196/196 [==============================] - ETA: 0s - loss: 0.3276 - accuracy: 0.8912\n",
            "Epoch 19: val_loss did not improve from 0.44494\n",
            "196/196 [==============================] - 19s 97ms/step - loss: 0.3276 - accuracy: 0.8912 - val_loss: 0.5768 - val_accuracy: 0.7554\n",
            "Epoch 20/20\n",
            "195/196 [============================>.] - ETA: 0s - loss: 0.2909 - accuracy: 0.8868\n",
            "Epoch 20: val_loss did not improve from 0.44494\n",
            "196/196 [==============================] - 19s 98ms/step - loss: 0.2910 - accuracy: 0.8868 - val_loss: 0.5567 - val_accuracy: 0.7949\n"
          ]
        }
      ]
    },
    {
      "cell_type": "code",
      "source": [
        "#plot the training history\n",
        "plt.plot(history.history['loss'], label='Training Loss')\n",
        "plt.plot(history.history['val_loss'], label='Validation Loss')\n",
        "plt.legend()\n",
        "plt.xlabel('Epochs')\n",
        "plt.ylabel('Loss')\n",
        "plt.savefig('model_postpad_training_history')\n",
        "plt.show()"
      ],
      "metadata": {
        "colab": {
          "base_uri": "https://localhost:8080/",
          "height": 449
        },
        "id": "UX8r5zDWHuid",
        "outputId": "78a4cd7e-510b-44a8-ef87-53524c60538c"
      },
      "execution_count": null,
      "outputs": [
        {
          "output_type": "display_data",
          "data": {
            "text/plain": [
              "<Figure size 640x480 with 1 Axes>"
            ],
            "image/png": "[encoded data removed]"
          },
          "metadata": {}
        }
      ]
    },
    {
      "cell_type": "code",
      "source": [
        "Y_test"
      ],
      "metadata": {
        "colab": {
          "base_uri": "https://localhost:8080/"
        },
        "id": "N6HCiNB6q4ps",
        "outputId": "8e3ebcfc-32c1-469a-89d8-f857b01de834"
      },
      "execution_count": null,
      "outputs": [
        {
          "output_type": "execute_result",
          "data": {
            "text/plain": [
              "array([0, 1, 1, ..., 0, 0, 0])"
            ]
          },
          "metadata": {},
          "execution_count": 134
        }
      ]
    },
    {
      "cell_type": "code",
      "source": [
        "#Prediction and output\n",
        "y_test_postpred = model_postpad.predict(X_test_postpad)\n",
        "y_test_postpred = (y_test_postpred > 0.5)\n",
        "y_test_postpred"
      ],
      "metadata": {
        "colab": {
          "base_uri": "https://localhost:8080/"
        },
        "id": "JSF27fsuq_rp",
        "outputId": "723cb158-8998-47b6-dfb5-c00cb90ba06d"
      },
      "execution_count": null,
      "outputs": [
        {
          "output_type": "execute_result",
          "data": {
            "text/plain": [
              "array([[False],\n",
              "       [ True],\n",
              "       [ True],\n",
              "       ...,\n",
              "       [False],\n",
              "       [False],\n",
              "       [ True]])"
            ]
          },
          "metadata": {},
          "execution_count": 136
        }
      ]
    },
    {
      "cell_type": "code",
      "source": [
        "#PR and F1 score\n",
        "print(classification_report(Y_test, y_test_postpred))"
      ],
      "metadata": {
        "colab": {
          "base_uri": "https://localhost:8080/"
        },
        "id": "KoXZjlyiqu0G",
        "outputId": "dcd51a56-9533-4878-ae38-0fbd6ebe6acd"
      },
      "execution_count": null,
      "outputs": [
        {
          "output_type": "stream",
          "name": "stdout",
          "text": [
            "              precision    recall  f1-score   support\n",
            "\n",
            "           0       0.77      0.83      0.80     12500\n",
            "           1       0.82      0.76      0.79     12500\n",
            "\n",
            "    accuracy                           0.79     25000\n",
            "   macro avg       0.80      0.79      0.79     25000\n",
            "weighted avg       0.80      0.79      0.79     25000\n",
            "\n"
          ]
        }
      ]
    },
    {
      "cell_type": "markdown",
      "source": [
        "## Data Preparation and Training for the prepad model"
      ],
      "metadata": {
        "id": "sIpjt5LZmyJB"
      }
    },
    {
      "cell_type": "code",
      "source": [
        "padding= 'pre'\n",
        "X_train_prepad,X_test_prepad = get_data(X_train,X_test,padding)"
      ],
      "metadata": {
        "id": "s1PvET4GqXtf",
        "colab": {
          "base_uri": "https://localhost:8080/"
        },
        "outputId": "84bf3bde-62ba-45ce-c69d-547c8e7035c2"
      },
      "execution_count": null,
      "outputs": [
        {
          "output_type": "stream",
          "name": "stdout",
          "text": [
            "[   0    0    0    0    0    0    0    0    0    0    0    0    0    0\n",
            "    0    0    0    0    0    0    0    0    0    0    0    0    0    0\n",
            "    0    0    0    0    0    0    0    0    0    0    0    0    0    0\n",
            "    0    0    0    0    0    0    0    0    0    0    0    0    0    0\n",
            "    0    0    0    0    0    0    0    0    0    0    0    0    0    0\n",
            "    0    0    0    0    0    0    0    0    0    0    0    0    0    0\n",
            "    0    0    0    0    0    0    0    0    0    0    0    0    0    0\n",
            "    0    0    0    0    0    0    0    0    0    0    0    0    0    0\n",
            "    0    0    0    0    0    0    0    0    0    0    0    0    0    0\n",
            "    0    0    0    0    0    0    0    0    0    0    0    0    0    0\n",
            "    0    0    0    0    0    0    0    0    0    0    0    0    0    0\n",
            "    0    0    0    1  778  128   74   12  630  163   15    4 1766 7982\n",
            " 1051    2   32   85  156   45   40  148  139  121  664  665   10   10\n",
            " 1361  173    4  749    2   16 3804    8    4  226   65   12   43  127\n",
            "   24    2   10   10]\n",
            "! ! ! ! ! ! ! ! ! ! ! ! ! ! ! ! ! ! ! ! ! ! ! ! ! ! ! ! ! ! ! ! ! ! ! ! ! ! ! ! ! ! ! ! ! ! ! ! ! ! ! ! ! ! ! ! ! ! ! ! ! ! ! ! ! ! ! ! ! ! ! ! ! ! ! ! ! ! ! ! ! ! ! ! ! ! ! ! ! ! ! ! ! ! ! ! ! ! ! ! ! ! ! ! ! ! ! ! ! ! ! ! ! ! ! ! ! ! ! ! ! ! ! ! ! ! ! ! ! ! ! ! ! ! ! ! ! ! ! ! ! ! ! ! ! ! ! ! ! ! ! ! ! ! ! ! ! ! begins better than it ends funny that the russian submarine crew ! all other actors it's like those scenes where documentary shots br br spoiler part the message ! was contrary to the whole story it just does not ! br br\n"
          ]
        }
      ]
    },
    {
      "cell_type": "code",
      "source": [
        "# Model\n",
        "model_prepad = get_model(X_train_prepad)"
      ],
      "metadata": {
        "id": "5J6prpIjqXxa",
        "colab": {
          "base_uri": "https://localhost:8080/"
        },
        "outputId": "abb1b565-18de-4122-c7bd-3f8bc497fd5b"
      },
      "execution_count": null,
      "outputs": [
        {
          "output_type": "stream",
          "name": "stdout",
          "text": [
            "Model: \"sequential_9\"\n",
            "_________________________________________________________________\n",
            " Layer (type)                Output Shape              Param #   \n",
            "=================================================================\n",
            " embedding_9 (Embedding)     (None, 200, 32)           480000    \n",
            "                                                                 \n",
            " simple_rnn_9 (SimpleRNN)    (None, 16)                784       \n",
            "                                                                 \n",
            " dense_9 (Dense)             (None, 1)                 17        \n",
            "                                                                 \n",
            " activation_9 (Activation)   (None, 1)                 0         \n",
            "                                                                 \n",
            "=================================================================\n",
            "Total params: 480,801\n",
            "Trainable params: 480,801\n",
            "Non-trainable params: 0\n",
            "_________________________________________________________________\n",
            "None\n"
          ]
        }
      ]
    },
    {
      "cell_type": "code",
      "source": [
        "#create callback for saving the checkpoint\n",
        "filepath = 'rnn_model_prepad_imdb_best_model.hdf5'\n",
        "checkpoint = ModelCheckpoint(filepath=filepath, \n",
        "                             monitor='val_loss',\n",
        "                             verbose=1, \n",
        "                             save_best_only=True,\n",
        "                             mode='min')"
      ],
      "metadata": {
        "id": "ZAK8gq2kqX1m"
      },
      "execution_count": null,
      "outputs": []
    },
    {
      "cell_type": "code",
      "source": [
        "callbacks = [checkpoint]"
      ],
      "metadata": {
        "id": "JKztGd8DqX4-"
      },
      "execution_count": null,
      "outputs": []
    },
    {
      "cell_type": "code",
      "source": [
        "history = model_prepad.fit(X_train_prepad, Y_train, validation_data = (X_test_prepad, Y_test),epochs = 20, batch_size = 128, verbose = 1,callbacks=callbacks)"
      ],
      "metadata": {
        "id": "AcXHo8h7qX8Y",
        "colab": {
          "base_uri": "https://localhost:8080/"
        },
        "outputId": "e6e75559-ad7c-4cc0-99fc-0bb678b2018c"
      },
      "execution_count": null,
      "outputs": [
        {
          "output_type": "stream",
          "name": "stdout",
          "text": [
            "Epoch 1/20\n",
            "196/196 [==============================] - ETA: 0s - loss: 0.5977 - accuracy: 0.6759\n",
            "Epoch 1: val_loss improved from inf to 0.47051, saving model to rnn_model_prepad_imdb_best_model.hdf5\n",
            "196/196 [==============================] - 20s 96ms/step - loss: 0.5977 - accuracy: 0.6759 - val_loss: 0.4705 - val_accuracy: 0.7949\n",
            "Epoch 2/20\n",
            "195/196 [============================>.] - ETA: 0s - loss: 0.4006 - accuracy: 0.8393\n",
            "Epoch 2: val_loss did not improve from 0.47051\n",
            "196/196 [==============================] - 21s 108ms/step - loss: 0.4005 - accuracy: 0.8393 - val_loss: 0.5872 - val_accuracy: 0.7828\n",
            "Epoch 3/20\n",
            "196/196 [==============================] - ETA: 0s - loss: 0.2946 - accuracy: 0.8827\n",
            "Epoch 3: val_loss did not improve from 0.47051\n",
            "196/196 [==============================] - 20s 102ms/step - loss: 0.2946 - accuracy: 0.8827 - val_loss: 0.5195 - val_accuracy: 0.8075\n",
            "Epoch 4/20\n",
            "196/196 [==============================] - ETA: 0s - loss: 0.2481 - accuracy: 0.9022\n",
            "Epoch 4: val_loss improved from 0.47051 to 0.30804, saving model to rnn_model_prepad_imdb_best_model.hdf5\n",
            "196/196 [==============================] - 19s 97ms/step - loss: 0.2481 - accuracy: 0.9022 - val_loss: 0.3080 - val_accuracy: 0.8688\n",
            "Epoch 5/20\n",
            "195/196 [============================>.] - ETA: 0s - loss: 0.2119 - accuracy: 0.9185\n",
            "Epoch 5: val_loss did not improve from 0.30804\n",
            "196/196 [==============================] - 19s 95ms/step - loss: 0.2121 - accuracy: 0.9184 - val_loss: 0.3608 - val_accuracy: 0.8561\n",
            "Epoch 6/20\n",
            "195/196 [============================>.] - ETA: 0s - loss: 0.1847 - accuracy: 0.9294\n",
            "Epoch 6: val_loss did not improve from 0.30804\n",
            "196/196 [==============================] - 19s 96ms/step - loss: 0.1847 - accuracy: 0.9293 - val_loss: 0.4610 - val_accuracy: 0.8349\n",
            "Epoch 7/20\n",
            "196/196 [==============================] - ETA: 0s - loss: 0.1652 - accuracy: 0.9364\n",
            "Epoch 7: val_loss did not improve from 0.30804\n",
            "196/196 [==============================] - 19s 95ms/step - loss: 0.1652 - accuracy: 0.9364 - val_loss: 0.5235 - val_accuracy: 0.8278\n",
            "Epoch 8/20\n",
            "196/196 [==============================] - ETA: 0s - loss: 0.1527 - accuracy: 0.9418\n",
            "Epoch 8: val_loss did not improve from 0.30804\n",
            "196/196 [==============================] - 20s 104ms/step - loss: 0.1527 - accuracy: 0.9418 - val_loss: 0.4462 - val_accuracy: 0.8556\n",
            "Epoch 9/20\n",
            "196/196 [==============================] - ETA: 0s - loss: 0.1374 - accuracy: 0.9480\n",
            "Epoch 9: val_loss did not improve from 0.30804\n",
            "196/196 [==============================] - 20s 102ms/step - loss: 0.1374 - accuracy: 0.9480 - val_loss: 0.3630 - val_accuracy: 0.8491\n",
            "Epoch 10/20\n",
            "196/196 [==============================] - ETA: 0s - loss: 0.1270 - accuracy: 0.9526\n",
            "Epoch 10: val_loss did not improve from 0.30804\n",
            "196/196 [==============================] - 19s 98ms/step - loss: 0.1270 - accuracy: 0.9526 - val_loss: 0.3763 - val_accuracy: 0.8481\n",
            "Epoch 11/20\n",
            "196/196 [==============================] - ETA: 0s - loss: 0.1175 - accuracy: 0.9578\n",
            "Epoch 11: val_loss did not improve from 0.30804\n",
            "196/196 [==============================] - 19s 95ms/step - loss: 0.1175 - accuracy: 0.9578 - val_loss: 0.5166 - val_accuracy: 0.8590\n",
            "Epoch 12/20\n",
            "196/196 [==============================] - ETA: 0s - loss: 0.1228 - accuracy: 0.9594\n",
            "Epoch 12: val_loss did not improve from 0.30804\n",
            "196/196 [==============================] - 19s 96ms/step - loss: 0.1228 - accuracy: 0.9594 - val_loss: 0.4432 - val_accuracy: 0.8434\n",
            "Epoch 13/20\n",
            "196/196 [==============================] - ETA: 0s - loss: 0.1085 - accuracy: 0.9597\n",
            "Epoch 13: val_loss did not improve from 0.30804\n",
            "196/196 [==============================] - 19s 96ms/step - loss: 0.1085 - accuracy: 0.9597 - val_loss: 0.4634 - val_accuracy: 0.8568\n",
            "Epoch 14/20\n",
            "196/196 [==============================] - ETA: 0s - loss: 0.0953 - accuracy: 0.9652\n",
            "Epoch 14: val_loss did not improve from 0.30804\n",
            "196/196 [==============================] - 19s 95ms/step - loss: 0.0953 - accuracy: 0.9652 - val_loss: 0.4317 - val_accuracy: 0.8405\n",
            "Epoch 15/20\n",
            "196/196 [==============================] - ETA: 0s - loss: 0.0921 - accuracy: 0.9674\n",
            "Epoch 15: val_loss did not improve from 0.30804\n",
            "196/196 [==============================] - 20s 101ms/step - loss: 0.0921 - accuracy: 0.9674 - val_loss: 0.5197 - val_accuracy: 0.8542\n",
            "Epoch 16/20\n",
            "196/196 [==============================] - ETA: 0s - loss: 0.0881 - accuracy: 0.9690\n",
            "Epoch 16: val_loss did not improve from 0.30804\n",
            "196/196 [==============================] - 20s 100ms/step - loss: 0.0881 - accuracy: 0.9690 - val_loss: 0.5207 - val_accuracy: 0.8508\n",
            "Epoch 17/20\n",
            "196/196 [==============================] - ETA: 0s - loss: 0.0927 - accuracy: 0.9716\n",
            "Epoch 17: val_loss did not improve from 0.30804\n",
            "196/196 [==============================] - 19s 95ms/step - loss: 0.0927 - accuracy: 0.9716 - val_loss: 0.5205 - val_accuracy: 0.8506\n",
            "Epoch 18/20\n",
            "196/196 [==============================] - ETA: 0s - loss: 0.0739 - accuracy: 0.9749\n",
            "Epoch 18: val_loss did not improve from 0.30804\n",
            "196/196 [==============================] - 19s 96ms/step - loss: 0.0739 - accuracy: 0.9749 - val_loss: 0.6063 - val_accuracy: 0.8416\n",
            "Epoch 19/20\n",
            "196/196 [==============================] - ETA: 0s - loss: 0.0754 - accuracy: 0.9758\n",
            "Epoch 19: val_loss did not improve from 0.30804\n",
            "196/196 [==============================] - 19s 96ms/step - loss: 0.0754 - accuracy: 0.9758 - val_loss: 0.6276 - val_accuracy: 0.8482\n",
            "Epoch 20/20\n",
            "196/196 [==============================] - ETA: 0s - loss: 0.0693 - accuracy: 0.9766\n",
            "Epoch 20: val_loss did not improve from 0.30804\n",
            "196/196 [==============================] - 19s 96ms/step - loss: 0.0693 - accuracy: 0.9766 - val_loss: 0.6721 - val_accuracy: 0.8357\n"
          ]
        }
      ]
    },
    {
      "cell_type": "code",
      "source": [
        "#plot the training history\n",
        "plt.plot(history.history['loss'], label='Training Loss')\n",
        "plt.plot(history.history['val_loss'], label='Validation Loss')\n",
        "plt.legend()\n",
        "plt.xlabel('Epochs')\n",
        "plt.ylabel('Loss')\n",
        "plt.savefig('model_prepad_training_history')\n",
        "plt.show()"
      ],
      "metadata": {
        "id": "tTwOSuu9qX_v",
        "colab": {
          "base_uri": "https://localhost:8080/",
          "height": 454
        },
        "outputId": "de15dc2b-73dc-42d9-8eb2-207cddb405a1"
      },
      "execution_count": null,
      "outputs": [
        {
          "output_type": "display_data",
          "data": {
            "text/plain": [
              "<Figure size 640x480 with 1 Axes>"
            ],
            "image/png": "[encoded data removed]"
          },
          "metadata": {}
        }
      ]
    },
    {
      "cell_type": "code",
      "source": [
        "#Prediction and output\n",
        "y_test_prepred = model_prepad.predict(X_test_prepad)\n",
        "y_test_prepred = (y_test_prepred > 0.5)\n",
        "y_test_prepred"
      ],
      "metadata": {
        "id": "XYwyF2ibjjpP",
        "colab": {
          "base_uri": "https://localhost:8080/"
        },
        "outputId": "effa7668-2fcc-4774-e4fc-b90811f8a9cd"
      },
      "execution_count": null,
      "outputs": [
        {
          "output_type": "execute_result",
          "data": {
            "text/plain": [
              "array([[False],\n",
              "       [ True],\n",
              "       [ True],\n",
              "       ...,\n",
              "       [False],\n",
              "       [False],\n",
              "       [False]])"
            ]
          },
          "metadata": {},
          "execution_count": 148
        }
      ]
    },
    {
      "cell_type": "code",
      "source": [
        "#PR and F1 score\n",
        "print(classification_report(Y_test, y_test_prepred))"
      ],
      "metadata": {
        "id": "QMo9s1KDjjsW",
        "colab": {
          "base_uri": "https://localhost:8080/"
        },
        "outputId": "ae05fb33-349a-4fd0-fdf2-7bbe8b2c7c0e"
      },
      "execution_count": null,
      "outputs": [
        {
          "output_type": "stream",
          "name": "stdout",
          "text": [
            "              precision    recall  f1-score   support\n",
            "\n",
            "           0       0.80      0.90      0.85     12500\n",
            "           1       0.89      0.77      0.82     12500\n",
            "\n",
            "    accuracy                           0.84     25000\n",
            "   macro avg       0.84      0.84      0.83     25000\n",
            "weighted avg       0.84      0.84      0.83     25000\n",
            "\n"
          ]
        }
      ]
    },
    {
      "cell_type": "code",
      "source": [],
      "metadata": {
        "id": "CK4ZDTrQjjvd"
      },
      "execution_count": null,
      "outputs": []
    },
    {
      "cell_type": "code",
      "source": [],
      "metadata": {
        "id": "zzcMO349jjyl"
      },
      "execution_count": null,
      "outputs": []
    },
    {
      "cell_type": "code",
      "source": [],
      "metadata": {
        "id": "I2BIE0YXqYDW"
      },
      "execution_count": null,
      "outputs": []
    },
    {
      "cell_type": "markdown",
      "source": [
        "## Analysis of Postpad model"
      ],
      "metadata": {
        "id": "wPhu5Q9Km6Fm"
      }
    },
    {
      "cell_type": "code",
      "source": [
        "#Load and evaluate the best postpad model version\n",
        "filepath = 'rnn_model_postpad_imdb_best_model.hdf5'\n",
        "model = load_model(filepath)"
      ],
      "metadata": {
        "id": "_IV3C7bkHn7V"
      },
      "execution_count": 165,
      "outputs": []
    },
    {
      "cell_type": "code",
      "source": [
        "#Gives the layer wise output\n",
        "#layerInput: Input array\n",
        "#layerIndex: Expected layer output\n",
        "#index: Input layer\n",
        "def layerwise_output(layerInput,layerIndex = 3,index = 0):\n",
        "  # layerIndex = 3\n",
        "  func = K.function([model.get_layer(index=index).input], model.get_layer(index=layerIndex).output)\n",
        "  tmp_layerOutput = func([layerInput]) \n",
        "  print(tmp_layerOutput[0])\n",
        "  return tmp_layerOutput"
      ],
      "metadata": {
        "id": "0gFN4jqQRQvi"
      },
      "execution_count": 166,
      "outputs": []
    },
    {
      "cell_type": "code",
      "source": [
        "maxlen = 200\n",
        "X_test_pre_pad = pad_sequences(X_test, maxlen = maxlen,padding='pre')\n",
        "X_test_post_pad = pad_sequences(X_test, maxlen = maxlen,padding='post')"
      ],
      "metadata": {
        "id": "qqhuyCo8IrKM"
      },
      "execution_count": 167,
      "outputs": []
    },
    {
      "cell_type": "code",
      "source": [
        "y_pred_pre = model.predict(X_test_pre_pad)"
      ],
      "metadata": {
        "id": "EILH3mNwI_ka"
      },
      "execution_count": 168,
      "outputs": []
    },
    {
      "cell_type": "code",
      "source": [
        "y_pred_post = model.predict(X_test_post_pad)"
      ],
      "metadata": {
        "id": "uLIPgaarJP7S"
      },
      "execution_count": 169,
      "outputs": []
    },
    {
      "cell_type": "code",
      "source": [
        "y_pred_pre"
      ],
      "metadata": {
        "colab": {
          "base_uri": "https://localhost:8080/"
        },
        "id": "HNeGSAETJZ6l",
        "outputId": "b9155a23-963e-4304-a0ae-1160cd175c9e"
      },
      "execution_count": 170,
      "outputs": [
        {
          "output_type": "execute_result",
          "data": {
            "text/plain": [
              "array([[0.1734682 ],\n",
              "       [0.9993086 ],\n",
              "       [0.62047434],\n",
              "       ...,\n",
              "       [0.2877969 ],\n",
              "       [0.11892655],\n",
              "       [0.6193492 ]], dtype=float32)"
            ]
          },
          "metadata": {},
          "execution_count": 170
        }
      ]
    },
    {
      "cell_type": "code",
      "source": [
        "y_pred_post"
      ],
      "metadata": {
        "colab": {
          "base_uri": "https://localhost:8080/"
        },
        "id": "YFOUwtN4Jd_R",
        "outputId": "fb529a1a-072c-4f65-d51a-18b09c3c7812"
      },
      "execution_count": 171,
      "outputs": [
        {
          "output_type": "execute_result",
          "data": {
            "text/plain": [
              "array([[0.16482541],\n",
              "       [0.9993086 ],\n",
              "       [0.62047434],\n",
              "       ...,\n",
              "       [0.16482556],\n",
              "       [0.16482577],\n",
              "       [0.7588492 ]], dtype=float32)"
            ]
          },
          "metadata": {},
          "execution_count": 171
        }
      ]
    },
    {
      "cell_type": "code",
      "source": [
        "X_test_pre_pad[5]"
      ],
      "metadata": {
        "colab": {
          "base_uri": "https://localhost:8080/"
        },
        "id": "8Q5O3yi0JgS2",
        "outputId": "423affe0-4707-4e2d-cd38-7b38f8c05de1"
      },
      "execution_count": 178,
      "outputs": [
        {
          "output_type": "execute_result",
          "data": {
            "text/plain": [
              "array([    0,     0,     0,     0,     0,     0,     0,     0,     0,\n",
              "           0,     0,     0,     0,     0,     0,     0,     0,     0,\n",
              "           0,     0,     0,     0,     0,     0,     0,     0,     0,\n",
              "           0,     0,     0,     0,     0,     0,     0,     0,     0,\n",
              "           0,     0,     0,     0,     0,     0,     0,     0,     0,\n",
              "           0,     0,     0,     0,     0,     0,     0,     0,     0,\n",
              "           0,     0,     0,     0,     0,     0,     0,     0,     0,\n",
              "           0,     0,     0,     0,     0,     1,   146,   427,  5718,\n",
              "          14,    20,   218,   112,  2962,    32,    37,   119,    14,\n",
              "          20,   144,  9493,   910,     5,  8817,     4,  4659,    18,\n",
              "          12,  3403,   853,    28,     8,  2225,    12,    95,   474,\n",
              "         818,  4651,    18,  1462,    13,   124,   285,     5,  1462,\n",
              "          11,    14,    20,   122,     6,    52,   292,     5,    13,\n",
              "         774,  2626,    46,   138,   910,  1481,   276,    14,    20,\n",
              "          23,   288,    42,    23,  1856,    11,  2364,  5687,    33,\n",
              "         222,    13,   774,   110,   101,  4651,    14,     9,     6,\n",
              "        3799,    52,    20,     5,   144,    30,   110,    34,    32,\n",
              "           4,   362,    11,     4,   162,  2248,    92,    79,     8,\n",
              "          67,    12,     5,    13,   104,    36,   144,    12,   144,\n",
              "          33,   222,    30,   276,   145,    23,     4,  1308,    14,\n",
              "          20,   152,  1833,     6,   706, 10134,    12,  1015,     4,\n",
              "         147,   155,   146,    98,   150,    14,    20,    80,    30,\n",
              "          23,   288], dtype=int32)"
            ]
          },
          "metadata": {},
          "execution_count": 178
        }
      ]
    },
    {
      "cell_type": "code",
      "source": [
        "decoded_review = whatItSay(X_test_pre_pad,5)"
      ],
      "metadata": {
        "colab": {
          "base_uri": "https://localhost:8080/"
        },
        "id": "AQa2KFOLtR2i",
        "outputId": "20904fce-1a4a-4164-b6d2-160dd52e0dca"
      },
      "execution_count": 176,
      "outputs": [
        {
          "output_type": "stream",
          "name": "stdout",
          "text": [
            "! ! ! ! ! ! ! ! ! ! ! ! ! ! ! ! ! ! ! ! ! ! ! ! ! ! ! ! ! ! ! ! ! ! ! ! ! ! ! ! ! ! ! ! ! ! ! ! ! ! ! ! ! ! ! ! ! ! ! ! ! ! ! ! ! ! ! ! ! i'm absolutely disgusted this movie isn't being sold all who love this movie should email disney and increase the demand for it they'd eventually have to sell it then i'd buy copies for everybody i know everything and everybody in this movie did a good job and i haven't figured out why disney hasn't put this movie on dvd or on vhs in rental stores at least i haven't seen any copies this is a wicked good movie and should be seen by all the kids in the new generation don't get to see it and i think they should it should at least be put back on the channel this movie doesn't deserve a cheap download it deserves the real thing i'm them now this movie will be on dvd\n"
          ]
        }
      ]
    },
    {
      "cell_type": "code",
      "source": [
        "X_test_post_pad[5]"
      ],
      "metadata": {
        "colab": {
          "base_uri": "https://localhost:8080/"
        },
        "id": "qrAlZp6RJuO3",
        "outputId": "978db199-b2ff-4a7f-af54-dff16fb47316"
      },
      "execution_count": 174,
      "outputs": [
        {
          "output_type": "execute_result",
          "data": {
            "text/plain": [
              "array([    1,   146,   427,  5718,    14,    20,   218,   112,  2962,\n",
              "          32,    37,   119,    14,    20,   144,  9493,   910,     5,\n",
              "        8817,     4,  4659,    18,    12,  3403,   853,    28,     8,\n",
              "        2225,    12,    95,   474,   818,  4651,    18,  1462,    13,\n",
              "         124,   285,     5,  1462,    11,    14,    20,   122,     6,\n",
              "          52,   292,     5,    13,   774,  2626,    46,   138,   910,\n",
              "        1481,   276,    14,    20,    23,   288,    42,    23,  1856,\n",
              "          11,  2364,  5687,    33,   222,    13,   774,   110,   101,\n",
              "        4651,    14,     9,     6,  3799,    52,    20,     5,   144,\n",
              "          30,   110,    34,    32,     4,   362,    11,     4,   162,\n",
              "        2248,    92,    79,     8,    67,    12,     5,    13,   104,\n",
              "          36,   144,    12,   144,    33,   222,    30,   276,   145,\n",
              "          23,     4,  1308,    14,    20,   152,  1833,     6,   706,\n",
              "       10134,    12,  1015,     4,   147,   155,   146,    98,   150,\n",
              "          14,    20,    80,    30,    23,   288,     0,     0,     0,\n",
              "           0,     0,     0,     0,     0,     0,     0,     0,     0,\n",
              "           0,     0,     0,     0,     0,     0,     0,     0,     0,\n",
              "           0,     0,     0,     0,     0,     0,     0,     0,     0,\n",
              "           0,     0,     0,     0,     0,     0,     0,     0,     0,\n",
              "           0,     0,     0,     0,     0,     0,     0,     0,     0,\n",
              "           0,     0,     0,     0,     0,     0,     0,     0,     0,\n",
              "           0,     0,     0,     0,     0,     0,     0,     0,     0,\n",
              "           0,     0], dtype=int32)"
            ]
          },
          "metadata": {},
          "execution_count": 174
        }
      ]
    },
    {
      "cell_type": "code",
      "source": [
        "decoded_review = whatItSay(X_test_post_pad,5)"
      ],
      "metadata": {
        "colab": {
          "base_uri": "https://localhost:8080/"
        },
        "id": "0gvaS8n-Jyj7",
        "outputId": "2adb1074-3dfa-4ff9-d458-c63b5e35b41a"
      },
      "execution_count": 177,
      "outputs": [
        {
          "output_type": "stream",
          "name": "stdout",
          "text": [
            "! i'm absolutely disgusted this movie isn't being sold all who love this movie should email disney and increase the demand for it they'd eventually have to sell it then i'd buy copies for everybody i know everything and everybody in this movie did a good job and i haven't figured out why disney hasn't put this movie on dvd or on vhs in rental stores at least i haven't seen any copies this is a wicked good movie and should be seen by all the kids in the new generation don't get to see it and i think they should it should at least be put back on the channel this movie doesn't deserve a cheap download it deserves the real thing i'm them now this movie will be on dvd ! ! ! ! ! ! ! ! ! ! ! ! ! ! ! ! ! ! ! ! ! ! ! ! ! ! ! ! ! ! ! ! ! ! ! ! ! ! ! ! ! ! ! ! ! ! ! ! ! ! ! ! ! ! ! ! ! ! ! ! ! ! ! ! ! ! ! !\n"
          ]
        }
      ]
    },
    {
      "cell_type": "code",
      "source": [
        "#Embedding layer output of Prepadded sequence\n",
        "layerIndex = 0\n",
        "index = 0\n",
        "layerOutput_pre_pad = layerwise_output(X_test_pre_pad,layerIndex,index)"
      ],
      "metadata": {
        "colab": {
          "base_uri": "https://localhost:8080/"
        },
        "id": "-Of5cO3MeqA0",
        "outputId": "66728063-604b-492f-9c8c-02f311406a9b"
      },
      "execution_count": 179,
      "outputs": [
        {
          "output_type": "stream",
          "name": "stdout",
          "text": [
            "[[ 0.0137097  -0.00762276 -0.01451159 ...  0.01784327  0.00890206\n",
            "  -0.04269288]\n",
            " [ 0.0137097  -0.00762276 -0.01451159 ...  0.01784327  0.00890206\n",
            "  -0.04269288]\n",
            " [ 0.0137097  -0.00762276 -0.01451159 ...  0.01784327  0.00890206\n",
            "  -0.04269288]\n",
            " ...\n",
            " [ 0.01990509 -0.01339087  0.06965964 ...  0.04043662  0.01637304\n",
            "   0.01572584]\n",
            " [-0.03245073 -0.02387469 -0.01697545 ...  0.00623269 -0.01478282\n",
            "   0.01179936]\n",
            " [-0.0302474   0.02778369  0.1230685  ... -0.06743828  0.04354285\n",
            "  -0.06764771]]\n"
          ]
        }
      ]
    },
    {
      "cell_type": "code",
      "source": [
        "#Embedding layer output of Postpadded sequence\n",
        "layerIndex = 0\n",
        "index = 0\n",
        "layerOutput_post_pad = layerwise_output(X_test_post_pad,layerIndex,index)"
      ],
      "metadata": {
        "colab": {
          "base_uri": "https://localhost:8080/"
        },
        "id": "nT2dWdLgbdNt",
        "outputId": "67c0496e-fe29-4104-eea7-1ee749c477c7"
      },
      "execution_count": 180,
      "outputs": [
        {
          "output_type": "stream",
          "name": "stdout",
          "text": [
            "[[ 0.04552212 -0.00395773 -0.01216506 ...  0.0442645   0.02962646\n",
            "   0.06547148]\n",
            " [-0.0321891  -0.02792823 -0.02504059 ...  0.04116902 -0.07953039\n",
            "  -0.00495925]\n",
            " [-0.03047558 -0.00143173  0.0721882  ... -0.01561093  0.0256364\n",
            "  -0.05070271]\n",
            " ...\n",
            " [ 0.0137097  -0.00762276 -0.01451159 ...  0.01784327  0.00890206\n",
            "  -0.04269288]\n",
            " [ 0.0137097  -0.00762276 -0.01451159 ...  0.01784327  0.00890206\n",
            "  -0.04269288]\n",
            " [ 0.0137097  -0.00762276 -0.01451159 ...  0.01784327  0.00890206\n",
            "  -0.04269288]]\n"
          ]
        }
      ]
    },
    {
      "cell_type": "code",
      "source": [
        "#Creating the stack of the sequence\n",
        "j_embed = 0  #Select the sequence"
      ],
      "metadata": {
        "id": "Ai16Ivb93zHj"
      },
      "execution_count": 244,
      "outputs": []
    },
    {
      "cell_type": "code",
      "source": [
        "#Creating the copy\n",
        "layerOutput_pre_pad_1 = layerOutput_pre_pad[j_embed].copy()\n",
        "layerOutput_post_pad_1 = layerOutput_post_pad[j_embed].copy()"
      ],
      "metadata": {
        "id": "0guz6LOJ8sw9"
      },
      "execution_count": 245,
      "outputs": []
    },
    {
      "cell_type": "code",
      "source": [
        "#Function for replacing the embeddings with 0 vectors\n",
        "#layerOutput_0: Embeddings where 0 vector is to be replaced\n",
        "#X_tmp_embed: padded sequence input\n",
        "def replace_embeddings(layerOutput_0,X_tmp_embed):\n",
        "  for i in range(maxlen):\n",
        "  \n",
        "    if X_tmp_embed[j_embed][i] == 0:\n",
        "      for j in range(32):\n",
        "        layerOutput_0[i][j] = 0\n",
        "  return layerOutput_0"
      ],
      "metadata": {
        "id": "kGsu5dA07iqD"
      },
      "execution_count": 246,
      "outputs": []
    },
    {
      "cell_type": "code",
      "source": [
        "#Replace embedding of prepadded sequence\n",
        "layerOutput_pre_pad_1 = replace_embeddings(layerOutput_pre_pad_1,X_test_pre_pad)      "
      ],
      "metadata": {
        "id": "B83_7L7FkkPq"
      },
      "execution_count": 247,
      "outputs": []
    },
    {
      "cell_type": "code",
      "source": [
        "layerOutput_pre_pad_1"
      ],
      "metadata": {
        "colab": {
          "base_uri": "https://localhost:8080/"
        },
        "id": "26bleXw19QjM",
        "outputId": "60f5f9ee-49a9-483d-d9ca-8baafffc3798"
      },
      "execution_count": 248,
      "outputs": [
        {
          "output_type": "execute_result",
          "data": {
            "text/plain": [
              "array([[ 0.        ,  0.        ,  0.        , ...,  0.        ,\n",
              "         0.        ,  0.        ],\n",
              "       [ 0.        ,  0.        ,  0.        , ...,  0.        ,\n",
              "         0.        ,  0.        ],\n",
              "       [ 0.        ,  0.        ,  0.        , ...,  0.        ,\n",
              "         0.        ,  0.        ],\n",
              "       ...,\n",
              "       [ 0.01990509, -0.01339087,  0.06965964, ...,  0.04043662,\n",
              "         0.01637304,  0.01572584],\n",
              "       [-0.03245073, -0.02387469, -0.01697545, ...,  0.00623269,\n",
              "        -0.01478282,  0.01179936],\n",
              "       [-0.0302474 ,  0.02778369,  0.1230685 , ..., -0.06743828,\n",
              "         0.04354285, -0.06764771]], dtype=float32)"
            ]
          },
          "metadata": {},
          "execution_count": 248
        }
      ]
    },
    {
      "cell_type": "code",
      "source": [
        "#Replace embedding of postpadded sequence\n",
        "layerOutput_post_pad_1 = replace_embeddings(layerOutput_post_pad_1,X_test_post_pad)"
      ],
      "metadata": {
        "id": "gHOifRQn9b_H"
      },
      "execution_count": 249,
      "outputs": []
    },
    {
      "cell_type": "code",
      "source": [
        "layerOutput_post_pad_1"
      ],
      "metadata": {
        "colab": {
          "base_uri": "https://localhost:8080/"
        },
        "id": "tol3ZqoYj651",
        "outputId": "6bf9658f-84cc-4108-b786-b18062fc13ea"
      },
      "execution_count": 250,
      "outputs": [
        {
          "output_type": "execute_result",
          "data": {
            "text/plain": [
              "array([[ 0.04552212, -0.00395773, -0.01216506, ...,  0.0442645 ,\n",
              "         0.02962646,  0.06547148],\n",
              "       [-0.0321891 , -0.02792823, -0.02504059, ...,  0.04116902,\n",
              "        -0.07953039, -0.00495925],\n",
              "       [-0.03047558, -0.00143173,  0.0721882 , ..., -0.01561093,\n",
              "         0.0256364 , -0.05070271],\n",
              "       ...,\n",
              "       [ 0.        ,  0.        ,  0.        , ...,  0.        ,\n",
              "         0.        ,  0.        ],\n",
              "       [ 0.        ,  0.        ,  0.        , ...,  0.        ,\n",
              "         0.        ,  0.        ],\n",
              "       [ 0.        ,  0.        ,  0.        , ...,  0.        ,\n",
              "         0.        ,  0.        ]], dtype=float32)"
            ]
          },
          "metadata": {},
          "execution_count": 250
        }
      ]
    },
    {
      "cell_type": "code",
      "source": [
        "#Output of the Final layer with 0 vector replaced embeddings for the prepadded sequence\n",
        "layerIndex = 3\n",
        "index = 1\n",
        "final_Output_prepad = layerwise_output(np.expand_dims(layerOutput_pre_pad_1, axis=0),layerIndex,index)"
      ],
      "metadata": {
        "colab": {
          "base_uri": "https://localhost:8080/"
        },
        "id": "xTXINr8q-EVB",
        "outputId": "3d217d97-bc6a-4154-eb13-436a3ae4c5a4"
      },
      "execution_count": 251,
      "outputs": [
        {
          "output_type": "stream",
          "name": "stdout",
          "text": [
            "[0.1734682]\n"
          ]
        }
      ]
    },
    {
      "cell_type": "code",
      "source": [
        "#Output of the Final layer with 0 vector replaced embeddings for the prepadded sequence\n",
        "layerIndex = 3\n",
        "index = 1\n",
        "final_Output_postpad = layerwise_output(np.expand_dims(layerOutput_post_pad_1, axis=0),layerIndex,index)"
      ],
      "metadata": {
        "colab": {
          "base_uri": "https://localhost:8080/"
        },
        "id": "GnohpXml_eI9",
        "outputId": "74077e71-7791-4ae2-dd13-174ea296e58b"
      },
      "execution_count": 252,
      "outputs": [
        {
          "output_type": "stream",
          "name": "stdout",
          "text": [
            "[0.29144335]\n"
          ]
        }
      ]
    },
    {
      "cell_type": "code",
      "source": [
        "layerOutput_pre_pad_1[132]"
      ],
      "metadata": {
        "colab": {
          "base_uri": "https://localhost:8080/"
        },
        "id": "EYKsnhLS_94H",
        "outputId": "dcd43ea3-b504-46cf-9375-5d457bde0c7c"
      },
      "execution_count": 253,
      "outputs": [
        {
          "output_type": "execute_result",
          "data": {
            "text/plain": [
              "array([ 0.04552212, -0.00395773, -0.01216506,  0.03285711, -0.00532767,\n",
              "       -0.06075055,  0.05620637,  0.00788563,  0.01374264, -0.07365733,\n",
              "        0.01236773,  0.04411464,  0.04278803,  0.0459995 , -0.08497547,\n",
              "       -0.02594138,  0.00456636,  0.06985252,  0.07804532,  0.05379283,\n",
              "       -0.04083571, -0.01256316, -0.08632506,  0.03461317, -0.0662659 ,\n",
              "       -0.06418122,  0.02226632,  0.05871281, -0.02081866,  0.0442645 ,\n",
              "        0.02962646,  0.06547148], dtype=float32)"
            ]
          },
          "metadata": {},
          "execution_count": 253
        }
      ]
    },
    {
      "cell_type": "code",
      "source": [
        "layerOutput_post_pad_1[0]"
      ],
      "metadata": {
        "colab": {
          "base_uri": "https://localhost:8080/"
        },
        "id": "nX-PNfpcAc_H",
        "outputId": "38c4a06a-15a8-4857-86c6-98c259faf2fc"
      },
      "execution_count": 254,
      "outputs": [
        {
          "output_type": "execute_result",
          "data": {
            "text/plain": [
              "array([ 0.04552212, -0.00395773, -0.01216506,  0.03285711, -0.00532767,\n",
              "       -0.06075055,  0.05620637,  0.00788563,  0.01374264, -0.07365733,\n",
              "        0.01236773,  0.04411464,  0.04278803,  0.0459995 , -0.08497547,\n",
              "       -0.02594138,  0.00456636,  0.06985252,  0.07804532,  0.05379283,\n",
              "       -0.04083571, -0.01256316, -0.08632506,  0.03461317, -0.0662659 ,\n",
              "       -0.06418122,  0.02226632,  0.05871281, -0.02081866,  0.0442645 ,\n",
              "        0.02962646,  0.06547148], dtype=float32)"
            ]
          },
          "metadata": {},
          "execution_count": 254
        }
      ]
    },
    {
      "cell_type": "markdown",
      "source": [
        "## Analysis of Prepad model"
      ],
      "metadata": {
        "id": "8UjS8ve1ofYh"
      }
    },
    {
      "cell_type": "code",
      "source": [
        "#Load and evaluate the best prepad model version\n",
        "filepath = 'rnn_model_prepad_imdb_best_model.hdf5'\n",
        "model = load_model(filepath)"
      ],
      "metadata": {
        "id": "cqLrpVI-AgFg"
      },
      "execution_count": 255,
      "outputs": []
    },
    {
      "cell_type": "code",
      "source": [
        "y_pred_pre_1 = model.predict(X_test_pre_pad)"
      ],
      "metadata": {
        "id": "4GZHTwB8oec3"
      },
      "execution_count": 256,
      "outputs": []
    },
    {
      "cell_type": "code",
      "source": [
        "y_pred_post_1 = model.predict(X_test_post_pad)"
      ],
      "metadata": {
        "id": "ExgV_-LtpJ_2"
      },
      "execution_count": 257,
      "outputs": []
    },
    {
      "cell_type": "code",
      "source": [
        "# y_pred_pre_1"
      ],
      "metadata": {
        "id": "saByxoscpPJK"
      },
      "execution_count": 258,
      "outputs": []
    },
    {
      "cell_type": "code",
      "source": [
        "# y_pred_post_1"
      ],
      "metadata": {
        "id": "zIopirMHpmdo"
      },
      "execution_count": 259,
      "outputs": []
    },
    {
      "cell_type": "code",
      "source": [
        "decoded_review = whatItSay(X_test_post_pad,0)"
      ],
      "metadata": {
        "colab": {
          "base_uri": "https://localhost:8080/"
        },
        "id": "s2PP1t7KpoSz",
        "outputId": "f8681ad2-682e-4e58-ce7f-86abdae79b12"
      },
      "execution_count": 260,
      "outputs": [
        {
          "output_type": "stream",
          "name": "stdout",
          "text": [
            "! please give this one a miss br br ! swanson and the rest of the cast rendered terrible performances the show is flat flat flat br br i don't know how michael madison could have allowed this one on his plate he almost seemed to know this wasn't going to work out and his performance was quite ! so all you madison fans give this a miss ! ! ! ! ! ! ! ! ! ! ! ! ! ! ! ! ! ! ! ! ! ! ! ! ! ! ! ! ! ! ! ! ! ! ! ! ! ! ! ! ! ! ! ! ! ! ! ! ! ! ! ! ! ! ! ! ! ! ! ! ! ! ! ! ! ! ! ! ! ! ! ! ! ! ! ! ! ! ! ! ! ! ! ! ! ! ! ! ! ! ! ! ! ! ! ! ! ! ! ! ! ! ! ! ! ! ! ! ! ! ! ! ! ! ! ! ! ! ! ! ! ! ! ! ! ! ! ! ! ! ! !\n"
          ]
        }
      ]
    },
    {
      "cell_type": "code",
      "source": [
        "#Embedding layer output of Prepadded sequence\n",
        "layerIndex = 0\n",
        "index = 0\n",
        "layerOutput_pre_pad_v1 = layerwise_output(X_test_pre_pad,layerIndex,index)"
      ],
      "metadata": {
        "colab": {
          "base_uri": "https://localhost:8080/"
        },
        "id": "L_JzwJjbpxZD",
        "outputId": "b34114c9-b8b7-4d0b-9006-7f2070f90a0a"
      },
      "execution_count": 261,
      "outputs": [
        {
          "output_type": "stream",
          "name": "stdout",
          "text": [
            "[[-0.00853232 -0.07033881 -0.03236642 ... -0.01031755  0.03826723\n",
            "  -0.05035369]\n",
            " [-0.00853232 -0.07033881 -0.03236642 ... -0.01031755  0.03826723\n",
            "  -0.05035369]\n",
            " [-0.00853232 -0.07033881 -0.03236642 ... -0.01031755  0.03826723\n",
            "  -0.05035369]\n",
            " ...\n",
            " [-0.00752096 -0.0836526   0.05070426 ... -0.02168434  0.04898031\n",
            "  -0.0096606 ]\n",
            " [ 0.00992115  0.04956681 -0.06360397 ...  0.02319761  0.06393252\n",
            "  -0.04777845]\n",
            " [ 0.08941394 -0.08481058  0.09274139 ... -0.01560183 -0.11395704\n",
            "   0.02806044]]\n"
          ]
        }
      ]
    },
    {
      "cell_type": "code",
      "source": [
        "#Embedding layer output of Postpadded sequence\n",
        "layerIndex = 0\n",
        "index = 0\n",
        "layerOutput_post_pad_v1 = layerwise_output(X_test_post_pad,layerIndex,index)"
      ],
      "metadata": {
        "colab": {
          "base_uri": "https://localhost:8080/"
        },
        "id": "hK7PlQKip-Sl",
        "outputId": "b96341d6-b295-4529-baf7-8dd0492847e2"
      },
      "execution_count": 262,
      "outputs": [
        {
          "output_type": "stream",
          "name": "stdout",
          "text": [
            "[[ 0.01223437 -0.025854   -0.07438473 ...  0.0211369  -0.02542307\n",
            "   0.07951292]\n",
            " [-0.00616196 -0.1065156   0.0316717  ... -0.02201712  0.05031917\n",
            "   0.00905376]\n",
            " [ 0.01753514 -0.02368526 -0.01918118 ...  0.06124752  0.0767805\n",
            "   0.05943852]\n",
            " ...\n",
            " [-0.00853232 -0.07033881 -0.03236642 ... -0.01031755  0.03826723\n",
            "  -0.05035369]\n",
            " [-0.00853232 -0.07033881 -0.03236642 ... -0.01031755  0.03826723\n",
            "  -0.05035369]\n",
            " [-0.00853232 -0.07033881 -0.03236642 ... -0.01031755  0.03826723\n",
            "  -0.05035369]]\n"
          ]
        }
      ]
    },
    {
      "cell_type": "code",
      "source": [
        "#Creating the stack of the sequence\n",
        "j_embed = 0  #Select the sequence"
      ],
      "metadata": {
        "id": "M8oU3jdYqH-3"
      },
      "execution_count": 263,
      "outputs": []
    },
    {
      "cell_type": "code",
      "source": [
        "#Creating the copy\n",
        "layerOutput_pre_pad_v1_1 = layerOutput_pre_pad_v1[j_embed].copy()\n",
        "layerOutput_post_pad_v1_1 = layerOutput_post_pad_v1[j_embed].copy()"
      ],
      "metadata": {
        "id": "DLVhv7GpqmKI"
      },
      "execution_count": 264,
      "outputs": []
    },
    {
      "cell_type": "code",
      "source": [
        "layerOutput_pre_pad_v1_1"
      ],
      "metadata": {
        "colab": {
          "base_uri": "https://localhost:8080/"
        },
        "id": "XIwGH4S-yKxi",
        "outputId": "d16d69e8-c60a-403c-e61f-69efa12ac5fb"
      },
      "execution_count": 265,
      "outputs": [
        {
          "output_type": "execute_result",
          "data": {
            "text/plain": [
              "array([[-0.00853232, -0.07033881, -0.03236642, ..., -0.01031755,\n",
              "         0.03826723, -0.05035369],\n",
              "       [-0.00853232, -0.07033881, -0.03236642, ..., -0.01031755,\n",
              "         0.03826723, -0.05035369],\n",
              "       [-0.00853232, -0.07033881, -0.03236642, ..., -0.01031755,\n",
              "         0.03826723, -0.05035369],\n",
              "       ...,\n",
              "       [-0.00752096, -0.0836526 ,  0.05070426, ..., -0.02168434,\n",
              "         0.04898031, -0.0096606 ],\n",
              "       [ 0.00992115,  0.04956681, -0.06360397, ...,  0.02319761,\n",
              "         0.06393252, -0.04777845],\n",
              "       [ 0.08941394, -0.08481058,  0.09274139, ..., -0.01560183,\n",
              "        -0.11395704,  0.02806044]], dtype=float32)"
            ]
          },
          "metadata": {},
          "execution_count": 265
        }
      ]
    },
    {
      "cell_type": "code",
      "source": [
        "#Replace embedding of prepadded sequence\n",
        "layerOutput_pre_pad_v1_1 = replace_embeddings(layerOutput_pre_pad_v1_1,X_test_pre_pad)      "
      ],
      "metadata": {
        "id": "dIoxceotxzzM"
      },
      "execution_count": 266,
      "outputs": []
    },
    {
      "cell_type": "code",
      "source": [
        "#Replace embedding of postpadded sequence\n",
        "layerOutput_post_pad_v1_1 = replace_embeddings(layerOutput_post_pad_v1_1,X_test_post_pad)      "
      ],
      "metadata": {
        "id": "UIOLJ_Akx5Ks"
      },
      "execution_count": 267,
      "outputs": []
    },
    {
      "cell_type": "code",
      "source": [
        "#Output of the Final layer with 0 vector replaced embeddings for the prepadded sequence\n",
        "layerIndex = 3\n",
        "index = 1\n",
        "final_Output_prepad = layerwise_output(np.expand_dims(layerOutput_pre_pad_v1_1, axis=0),layerIndex,index)"
      ],
      "metadata": {
        "colab": {
          "base_uri": "https://localhost:8080/"
        },
        "id": "JRIxT0rmssPH",
        "outputId": "06ffbdc0-9088-475a-b385-dcddbeb36add"
      },
      "execution_count": 268,
      "outputs": [
        {
          "output_type": "stream",
          "name": "stdout",
          "text": [
            "[0.01203719]\n"
          ]
        }
      ]
    },
    {
      "cell_type": "code",
      "source": [
        "#Output of the Final layer with 0 vector replaced embeddings for the prepadded sequence\n",
        "layerIndex = 3\n",
        "index = 1\n",
        "final_Output_prepad = layerwise_output(np.expand_dims(layerOutput_post_pad_v1_1, axis=0),layerIndex,index)"
      ],
      "metadata": {
        "colab": {
          "base_uri": "https://localhost:8080/"
        },
        "id": "YwfsRl9ZtfQG",
        "outputId": "ecebad0b-f93f-4ef9-ffdc-b6f8544e6099"
      },
      "execution_count": 269,
      "outputs": [
        {
          "output_type": "stream",
          "name": "stdout",
          "text": [
            "[0.06152868]\n"
          ]
        }
      ]
    },
    {
      "cell_type": "code",
      "source": [
        "layerOutput_pre_pad_v1_1[132]"
      ],
      "metadata": {
        "colab": {
          "base_uri": "https://localhost:8080/"
        },
        "id": "-PmUzjhQtjUO",
        "outputId": "977a5bac-729b-45db-edcc-2b3df39493a8"
      },
      "execution_count": 270,
      "outputs": [
        {
          "output_type": "execute_result",
          "data": {
            "text/plain": [
              "array([ 0.01223437, -0.025854  , -0.07438473,  0.05101241, -0.02748957,\n",
              "       -0.01700239,  0.04800894,  0.04205093,  0.07161769,  0.00838763,\n",
              "        0.01882657, -0.09150523, -0.02646472,  0.02949185, -0.00036047,\n",
              "        0.01634278,  0.02680162, -0.09463005, -0.01522363, -0.02137815,\n",
              "        0.00494988, -0.02639212, -0.07486337,  0.02090753, -0.07777564,\n",
              "       -0.03018101,  0.0015233 ,  0.01038992, -0.04058895,  0.0211369 ,\n",
              "       -0.02542307,  0.07951292], dtype=float32)"
            ]
          },
          "metadata": {},
          "execution_count": 270
        }
      ]
    },
    {
      "cell_type": "code",
      "source": [
        "layerOutput_post_pad_v1_1[0]"
      ],
      "metadata": {
        "colab": {
          "base_uri": "https://localhost:8080/"
        },
        "id": "kl1ra3htttdA",
        "outputId": "e809b9bf-6c73-4e06-c231-93209bd3e5e6"
      },
      "execution_count": 271,
      "outputs": [
        {
          "output_type": "execute_result",
          "data": {
            "text/plain": [
              "array([ 0.01223437, -0.025854  , -0.07438473,  0.05101241, -0.02748957,\n",
              "       -0.01700239,  0.04800894,  0.04205093,  0.07161769,  0.00838763,\n",
              "        0.01882657, -0.09150523, -0.02646472,  0.02949185, -0.00036047,\n",
              "        0.01634278,  0.02680162, -0.09463005, -0.01522363, -0.02137815,\n",
              "        0.00494988, -0.02639212, -0.07486337,  0.02090753, -0.07777564,\n",
              "       -0.03018101,  0.0015233 ,  0.01038992, -0.04058895,  0.0211369 ,\n",
              "       -0.02542307,  0.07951292], dtype=float32)"
            ]
          },
          "metadata": {},
          "execution_count": 271
        }
      ]
    },
    {
      "cell_type": "code",
      "source": [],
      "metadata": {
        "id": "w_1yNzvptwho"
      },
      "execution_count": null,
      "outputs": []
    },
    {
      "cell_type": "code",
      "source": [],
      "metadata": {
        "id": "Y0GAFup_3u8g"
      },
      "execution_count": null,
      "outputs": []
    },
    {
      "cell_type": "code",
      "source": [],
      "metadata": {
        "id": "nBMjeSKh3u_4"
      },
      "execution_count": null,
      "outputs": []
    }
  ]
}